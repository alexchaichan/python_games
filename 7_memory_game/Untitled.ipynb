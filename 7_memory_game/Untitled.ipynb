{
 "cells": [
  {
   "cell_type": "code",
   "execution_count": 13,
   "id": "8998bbb0-cdd1-4e8f-8d63-21e68b4aec3e",
   "metadata": {},
   "outputs": [],
   "source": [
    "a = (1,2,3)\n",
    "b = [1,2,3]"
   ]
  },
  {
   "cell_type": "code",
   "execution_count": 14,
   "id": "9f0443a2-2f83-41ca-a234-0858ca2235b9",
   "metadata": {},
   "outputs": [
    {
     "data": {
      "text/plain": [
       "(1, 2, 3)"
      ]
     },
     "execution_count": 14,
     "metadata": {},
     "output_type": "execute_result"
    }
   ],
   "source": [
    "a"
   ]
  },
  {
   "cell_type": "code",
   "execution_count": 19,
   "id": "a7bf86e7-1f03-4ecc-a026-43ba29537e14",
   "metadata": {},
   "outputs": [
    {
     "ename": "AttributeError",
     "evalue": "'tuple' object has no attribute 'append'",
     "output_type": "error",
     "traceback": [
      "\u001b[0;31m---------------------------------------------------------------------------\u001b[0m",
      "\u001b[0;31mAttributeError\u001b[0m                            Traceback (most recent call last)",
      "Input \u001b[0;32mIn [19]\u001b[0m, in \u001b[0;36m<module>\u001b[0;34m\u001b[0m\n\u001b[0;32m----> 1\u001b[0m \u001b[43ma\u001b[49m\u001b[38;5;241;43m.\u001b[39;49m\u001b[43mappend\u001b[49m(\u001b[38;5;241m4\u001b[39m)\n",
      "\u001b[0;31mAttributeError\u001b[0m: 'tuple' object has no attribute 'append'"
     ]
    }
   ],
   "source": [
    "a.append(4)"
   ]
  },
  {
   "cell_type": "code",
   "execution_count": 15,
   "id": "cd023dab-e1ec-4a6a-97de-4f40c2bb00e6",
   "metadata": {},
   "outputs": [
    {
     "data": {
      "text/plain": [
       "[1, 2, 3]"
      ]
     },
     "execution_count": 15,
     "metadata": {},
     "output_type": "execute_result"
    }
   ],
   "source": [
    "b"
   ]
  },
  {
   "cell_type": "code",
   "execution_count": 17,
   "id": "dfcfa601-e35d-4eef-ae1e-b9bd1330db59",
   "metadata": {},
   "outputs": [],
   "source": [
    "b.append(4)"
   ]
  },
  {
   "cell_type": "code",
   "execution_count": 18,
   "id": "23e27275-3829-4725-a4f7-e2d13abd5a0c",
   "metadata": {},
   "outputs": [
    {
     "data": {
      "text/plain": [
       "[1, 2, 3, 4]"
      ]
     },
     "execution_count": 18,
     "metadata": {},
     "output_type": "execute_result"
    }
   ],
   "source": [
    "b"
   ]
  },
  {
   "cell_type": "code",
   "execution_count": null,
   "id": "5d82a010-e598-45e6-be84-a931a0bbd049",
   "metadata": {},
   "outputs": [],
   "source": []
  },
  {
   "cell_type": "code",
   "execution_count": null,
   "id": "41ba47ef-5487-41a4-9ae1-018f05688474",
   "metadata": {},
   "outputs": [],
   "source": []
  },
  {
   "cell_type": "code",
   "execution_count": null,
   "id": "b88b8f0f-9ac9-4cd7-8e8d-ecf7748d94d9",
   "metadata": {},
   "outputs": [],
   "source": []
  },
  {
   "cell_type": "code",
   "execution_count": 89,
   "id": "0fff67a4-38ed-4b77-809f-4cd20a86c24c",
   "metadata": {},
   "outputs": [],
   "source": [
    "i_chicken = [0,-2,-4,-6]\n"
   ]
  },
  {
   "cell_type": "code",
   "execution_count": 92,
   "id": "fe234d1b-abb6-4b9c-9143-f01610c16705",
   "metadata": {},
   "outputs": [],
   "source": [
    "def position_from_index(index):\n",
    "    x = -0.75+(-0.25)*index\n",
    "    y = 1\n",
    "    \n",
    "    return x, y\n",
    "    "
   ]
  },
  {
   "cell_type": "code",
   "execution_count": 93,
   "id": "7235dfd1-4d4a-4f35-8fc9-c8a4cc8ebf54",
   "metadata": {},
   "outputs": [
    {
     "data": {
      "text/plain": [
       "(-0.75, 1)"
      ]
     },
     "execution_count": 93,
     "metadata": {},
     "output_type": "execute_result"
    }
   ],
   "source": [
    "position_from_index(i_chicken[0])"
   ]
  },
  {
   "cell_type": "code",
   "execution_count": 113,
   "id": "c96f0e72-8dae-40e6-b2b2-3598f407635e",
   "metadata": {},
   "outputs": [],
   "source": [
    "import random\n",
    "card = {\n",
    "'front' : random.uniform(0,100),\n",
    "'back' : random.uniform(0,100),\n",
    "'filename' : 'r01',\n",
    "'side' : 'back',\n",
    "'show' : True\n",
    "}"
   ]
  },
  {
   "cell_type": "code",
   "execution_count": 114,
   "id": "75679269-2271-4583-b03e-a916d091d004",
   "metadata": {},
   "outputs": [
    {
     "data": {
      "text/plain": [
       "4.892155590390157"
      ]
     },
     "execution_count": 114,
     "metadata": {},
     "output_type": "execute_result"
    }
   ],
   "source": [
    "card['front']"
   ]
  },
  {
   "cell_type": "code",
   "execution_count": 146,
   "id": "7ecfa51a-3856-472d-9654-f865b1543724",
   "metadata": {},
   "outputs": [],
   "source": [
    "def position_from_index(index):\n",
    "    \n",
    "    if index <= 3:\n",
    "        x = -0.75+0.5*index\n",
    "        y = 0.5\n",
    "    else:\n",
    "        x = -0.75+(-0.5)*-index -2\n",
    "        y = -0.5\n",
    "    \n",
    "    return x, y"
   ]
  },
  {
   "cell_type": "code",
   "execution_count": 158,
   "id": "1be7812c-d891-4a5e-9dc9-d1e16debbeff",
   "metadata": {},
   "outputs": [
    {
     "data": {
      "text/plain": [
       "(0.75, -0.5)"
      ]
     },
     "execution_count": 158,
     "metadata": {},
     "output_type": "execute_result"
    }
   ],
   "source": [
    "position_from_index(7)"
   ]
  },
  {
   "cell_type": "code",
   "execution_count": 160,
   "id": "895add46-5bf0-4e35-a905-f069f87395a2",
   "metadata": {},
   "outputs": [],
   "source": [
    "i_chicken=[0,1,2,3,4,5,6,7]"
   ]
  },
  {
   "cell_type": "code",
   "execution_count": 164,
   "id": "85ab8952-a846-4c0e-a709-f2bb2cb64a57",
   "metadata": {},
   "outputs": [],
   "source": []
  },
  {
   "cell_type": "code",
   "execution_count": 163,
   "id": "99ce8439-fc2d-40f7-a00d-c329b3ccd385",
   "metadata": {},
   "outputs": [
    {
     "ename": "NameError",
     "evalue": "name 'win' is not defined",
     "output_type": "error",
     "traceback": [
      "\u001b[0;31m---------------------------------------------------------------------------\u001b[0m",
      "\u001b[0;31mNameError\u001b[0m                                 Traceback (most recent call last)",
      "Input \u001b[0;32mIn [163]\u001b[0m, in \u001b[0;36m<module>\u001b[0;34m\u001b[0m\n\u001b[1;32m      1\u001b[0m \u001b[38;5;28;01mfor\u001b[39;00m card \u001b[38;5;129;01min\u001b[39;00m i_chicken:\n\u001b[1;32m      3\u001b[0m     card \u001b[38;5;241m=\u001b[39m {\n\u001b[0;32m----> 4\u001b[0m     \u001b[38;5;124m'\u001b[39m\u001b[38;5;124mfront\u001b[39m\u001b[38;5;124m'\u001b[39m : visual\u001b[38;5;241m.\u001b[39mImageStim(\u001b[43mwin\u001b[49m, image\u001b[38;5;241m=\u001b[39m\u001b[38;5;124m\"\u001b[39m\u001b[38;5;124mimages/chicken/r01.png\u001b[39m\u001b[38;5;124m\"\u001b[39m, size\u001b[38;5;241m=\u001b[39m(\u001b[38;5;241m0.5\u001b[39m, \u001b[38;5;241m1\u001b[39m), units\u001b[38;5;241m=\u001b[39m\u001b[38;5;124m'\u001b[39m\u001b[38;5;124mnorm\u001b[39m\u001b[38;5;124m'\u001b[39m, pos\u001b[38;5;241m=\u001b[39m(position_from_index(i_chicken))),\n\u001b[1;32m      5\u001b[0m     \u001b[38;5;124m'\u001b[39m\u001b[38;5;124mback\u001b[39m\u001b[38;5;124m'\u001b[39m : visual\u001b[38;5;241m.\u001b[39mRect(win, units\u001b[38;5;241m=\u001b[39m\u001b[38;5;124m'\u001b[39m\u001b[38;5;124mnorm\u001b[39m\u001b[38;5;124m'\u001b[39m,size\u001b[38;5;241m=\u001b[39m(\u001b[38;5;241m0.5\u001b[39m,\u001b[38;5;241m1\u001b[39m), pos\u001b[38;5;241m=\u001b[39m(position_from_index(i_chicken)), lineColor\u001b[38;5;241m=\u001b[39m\u001b[38;5;124m'\u001b[39m\u001b[38;5;124mwhite\u001b[39m\u001b[38;5;124m'\u001b[39m, fillColor\u001b[38;5;241m=\u001b[39m\u001b[38;5;124m'\u001b[39m\u001b[38;5;124mblack\u001b[39m\u001b[38;5;124m'\u001b[39m),\n\u001b[1;32m      6\u001b[0m     \u001b[38;5;124m'\u001b[39m\u001b[38;5;124mfilename\u001b[39m\u001b[38;5;124m'\u001b[39m : \u001b[38;5;124m'\u001b[39m\u001b[38;5;124mr01\u001b[39m\u001b[38;5;124m'\u001b[39m,\n\u001b[1;32m      7\u001b[0m     \u001b[38;5;66;03m#'side' : visual.Rect(win, units='norm',size=(0.5,1), pos=(position_from_index(i_chicken[5])), lineColor='white', fillColor='black'),\u001b[39;00m\n\u001b[1;32m      8\u001b[0m     \u001b[38;5;124m'\u001b[39m\u001b[38;5;124mshow\u001b[39m\u001b[38;5;124m'\u001b[39m : \u001b[38;5;28;01mTrue\u001b[39;00m\n\u001b[1;32m      9\u001b[0m     }\n\u001b[1;32m     11\u001b[0m     card \u001b[38;5;241m=\u001b[39m {\n\u001b[1;32m     12\u001b[0m     \u001b[38;5;124m'\u001b[39m\u001b[38;5;124mside\u001b[39m\u001b[38;5;124m'\u001b[39m : card[\u001b[38;5;124m'\u001b[39m\u001b[38;5;124mback\u001b[39m\u001b[38;5;124m'\u001b[39m]\n\u001b[1;32m     13\u001b[0m     }\n",
      "\u001b[0;31mNameError\u001b[0m: name 'win' is not defined"
     ]
    }
   ],
   "source": [
    "for card in i_chicken:\n",
    "    \n",
    "    card = {\n",
    "    'front' : visual.ImageStim(win, image=\"images/chicken/r01.png\", size=(0.5, 1), units='norm', pos=(position_from_index(i_chicken))),\n",
    "    'back' : visual.Rect(win, units='norm',size=(0.5,1), pos=(position_from_index(i_chicken)), lineColor='white', fillColor='black'),\n",
    "    'filename' : 'r01',\n",
    "    #'side' : visual.Rect(win, units='norm',size=(0.5,1), pos=(position_from_index(i_chicken[5])), lineColor='white', fillColor='black'),\n",
    "    'show' : True\n",
    "    }\n",
    "\n",
    "    card = {\n",
    "    'side' : card['back']\n",
    "    }"
   ]
  },
  {
   "cell_type": "code",
   "execution_count": 24,
   "id": "2a2473fe-4191-4ef5-8dba-84a15a7abec0",
   "metadata": {},
   "outputs": [],
   "source": [
    "import os"
   ]
  },
  {
   "cell_type": "code",
   "execution_count": 58,
   "id": "97d07e7b-0cf4-40de-800a-47b1f10beea0",
   "metadata": {},
   "outputs": [
    {
     "data": {
      "text/plain": [
       "['l03.png',\n",
       " 'l02.png',\n",
       " 'l01.png',\n",
       " 'l04.png',\n",
       " 'l03.png',\n",
       " 'l02.png',\n",
       " 'l01.png',\n",
       " 'l04.png']"
      ]
     },
     "execution_count": 58,
     "metadata": {},
     "output_type": "execute_result"
    }
   ],
   "source": [
    "images = [x for x in os.listdir(path=\"images/chicken/\")*2 if x.startswith('l')]\n",
    "images"
   ]
  },
  {
   "cell_type": "code",
   "execution_count": 79,
   "id": "0ac3d918-8cd6-44ed-b4d3-6896826663ac",
   "metadata": {},
   "outputs": [
    {
     "data": {
      "text/plain": [
       "['l03.png',\n",
       " 'l02.png',\n",
       " 'l01.png',\n",
       " 'l04.png',\n",
       " 'l03.png',\n",
       " 'l02.png',\n",
       " 'l01.png',\n",
       " 'l04.png']"
      ]
     },
     "execution_count": 79,
     "metadata": {},
     "output_type": "execute_result"
    }
   ],
   "source": [
    "image=[x for x in os.listdir(path=\"images/chicken/\")*2 if x.startswith('l')]\n",
    "\n",
    "image"
   ]
  },
  {
   "cell_type": "code",
   "execution_count": 62,
   "id": "37a8d8ae-cd3b-4a71-9b6a-a59420fbc50f",
   "metadata": {},
   "outputs": [
    {
     "data": {
      "text/plain": [
       "['0: l03.png',\n",
       " '1: l02.png',\n",
       " '2: l01.png',\n",
       " '3: l04.png',\n",
       " '4: l03.png',\n",
       " '5: l02.png',\n",
       " '6: l01.png',\n",
       " '7: l04.png']"
      ]
     },
     "execution_count": 62,
     "metadata": {},
     "output_type": "execute_result"
    }
   ],
   "source": [
    "[\"%d: %s\"%(index, image) for index, image in enumerate(images)]\n"
   ]
  },
  {
   "cell_type": "code",
   "execution_count": 106,
   "id": "1b5da05b-b61f-4311-b450-3322a50d608f",
   "metadata": {},
   "outputs": [
    {
     "data": {
      "text/plain": [
       "['l03.png',\n",
       " 'l02.png',\n",
       " 'l01.png',\n",
       " 'l04.png',\n",
       " 'l03.png',\n",
       " 'l02.png',\n",
       " 'l01.png',\n",
       " 'l04.png']"
      ]
     },
     "execution_count": 106,
     "metadata": {},
     "output_type": "execute_result"
    }
   ],
   "source": [
    "import random\n",
    "image=[x for x in os.listdir(\"images/chicken\")*2 if x.startswith('l')]\n",
    "\n",
    "image"
   ]
  },
  {
   "cell_type": "code",
   "execution_count": 83,
   "id": "2e0e2c1a-5963-4af9-bd79-383c15f7bc2f",
   "metadata": {},
   "outputs": [],
   "source": [
    "path = os.path.join(\"images\", \"chicken\", image[0])"
   ]
  },
  {
   "cell_type": "code",
   "execution_count": 84,
   "id": "7722b436-02e2-41ae-bb65-0857362562ea",
   "metadata": {},
   "outputs": [
    {
     "data": {
      "text/plain": [
       "'images/chicken/l03.png'"
      ]
     },
     "execution_count": 84,
     "metadata": {},
     "output_type": "execute_result"
    }
   ],
   "source": [
    "path"
   ]
  },
  {
   "cell_type": "code",
   "execution_count": 107,
   "id": "ee75dc62-efcd-4541-8c12-7a69d81e38cb",
   "metadata": {},
   "outputs": [
    {
     "data": {
      "text/plain": [
       "['l03.png',\n",
       " 'l04.png',\n",
       " 'l03.png',\n",
       " 'l02.png',\n",
       " 'l04.png',\n",
       " 'l02.png',\n",
       " 'l01.png',\n",
       " 'l01.png']"
      ]
     },
     "execution_count": 107,
     "metadata": {},
     "output_type": "execute_result"
    }
   ],
   "source": [
    "image = random.sample(image, 8)\n",
    "image"
   ]
  },
  {
   "cell_type": "code",
   "execution_count": 95,
   "id": "b8b99b85-a6e5-4781-afae-48d46709cbc6",
   "metadata": {},
   "outputs": [],
   "source": [
    "image"
   ]
  },
  {
   "cell_type": "code",
   "execution_count": 19,
   "id": "c8b41035-281a-420a-a2c5-a1eaa04a5952",
   "metadata": {},
   "outputs": [],
   "source": [
    "        card1 = {\n",
    "        'front' : 1,\n",
    "        'back' : 2,\n",
    "        'side' : None,\n",
    "        'show' : True\n",
    "        }\n",
    "        # update the card\n",
    "        card['side'] = card['front']"
   ]
  },
  {
   "cell_type": "code",
   "execution_count": 20,
   "id": "f6a70e24-a3a3-4ff9-9d58-bef05aeed62a",
   "metadata": {},
   "outputs": [
    {
     "data": {
      "text/plain": [
       "{'front': 1, 'back': 2, 'side': 1, 'show': True}"
      ]
     },
     "execution_count": 20,
     "metadata": {},
     "output_type": "execute_result"
    }
   ],
   "source": [
    "card"
   ]
  },
  {
   "cell_type": "code",
   "execution_count": 18,
   "id": "1baa471f-7527-457b-b6fd-bf5480c4e31f",
   "metadata": {},
   "outputs": [
    {
     "data": {
      "text/plain": [
       "{'front': 1, 'back': 2, 'side': None, 'show': True}"
      ]
     },
     "execution_count": 18,
     "metadata": {},
     "output_type": "execute_result"
    }
   ],
   "source": [
    "        card2 = {\n",
    "        'front' : 1,\n",
    "        'back' : 2,\n",
    "        'side' : None,\n",
    "        'show' : True\n",
    "        }\n",
    "        # update the card\n",
    "        card['side'] = 'front'\n",
    "        \n",
    "        card2"
   ]
  },
  {
   "cell_type": "code",
   "execution_count": 21,
   "id": "1429c2a5-67dc-4155-9b29-365a3500ee2c",
   "metadata": {},
   "outputs": [
    {
     "data": {
      "text/plain": [
       "[1]"
      ]
     },
     "execution_count": 21,
     "metadata": {},
     "output_type": "execute_result"
    }
   ],
   "source": [
    "[1]"
   ]
  },
  {
   "cell_type": "code",
   "execution_count": 1,
   "id": "6d51e235-78ef-4e82-b115-5010a8f1fc86",
   "metadata": {},
   "outputs": [
    {
     "name": "stderr",
     "output_type": "stream",
     "text": [
      "2022-04-16 23:17:36.146 Python[81499:3639041] ApplePersistenceIgnoreState: Existing state will not be touched. New state will be written to /var/folders/19/gy0zsqxn3bgbch87_94h_68r0000gn/T/org.python.python.savedState\n",
      "Fontconfig warning: ignoring UTF-8: not a valid region tag\n"
     ]
    }
   ],
   "source": [
    "from psychopy import core, event, visual\n",
    "win = visual.Window(size=(960, 800), units='norm')\n",
    "\n",
    "mouse = event.Mouse(visible=True, win=win)\n",
    "\n",
    "buttons = mouse.getPressed()\n",
    "if buttons: # if the left mouse button is pressed\n",
    "    if buttons[0]==True:\n",
    "        print('hi')"
   ]
  },
  {
   "cell_type": "code",
   "execution_count": 2,
   "id": "fac4cfc6-b369-415d-b2c9-0bfa693adeba",
   "metadata": {},
   "outputs": [
    {
     "name": "stdout",
     "output_type": "stream",
     "text": [
      "1: A\n",
      "2: B\n",
      "3: C\n"
     ]
    }
   ],
   "source": [
    "numbers = [1, 2, 3]\n",
    "letters = [\"A\", \"B\", \"C\"]\n",
    "for  a_number, a_letter in  zip(numbers, letters):\n",
    "    print(\"%d: %s\"%(a_number, a_letter))"
   ]
  },
  {
   "cell_type": "code",
   "execution_count": 4,
   "id": "6d23330c-5259-4b09-b0e8-89263a56d49d",
   "metadata": {},
   "outputs": [],
   "source": [
    "a = [(1,2),(3,4),(5,6)]"
   ]
  },
  {
   "cell_type": "code",
   "execution_count": 5,
   "id": "f47ac891-5eba-4a02-b8a7-3464d13c1acb",
   "metadata": {},
   "outputs": [
    {
     "data": {
      "text/plain": [
       "[(1, 2), (3, 4), (5, 6)]"
      ]
     },
     "execution_count": 5,
     "metadata": {},
     "output_type": "execute_result"
    }
   ],
   "source": [
    "a"
   ]
  },
  {
   "cell_type": "code",
   "execution_count": 32,
   "id": "8fa41479-36ac-459a-b973-1dd5fb11fc47",
   "metadata": {},
   "outputs": [],
   "source": [
    "BALL_SIZE = [0.025, 0.03, 0.04]\n",
    "BALL_COLOR = ['red','blue','yellow']\n",
    "BALL_POS = [(-0.125, -0.125), (0.125, 0.125), (0, 0)]"
   ]
  },
  {
   "cell_type": "code",
   "execution_count": 33,
   "id": "f72641d0-c98b-4caa-ac3f-010379cc5eec",
   "metadata": {},
   "outputs": [],
   "source": [
    "for a_size, a_color, a_pos in zip(BALL_SIZE, BALL_COLOR, BALL_POS):\n",
    "    list=(a_size, a_color, a_pos)"
   ]
  },
  {
   "cell_type": "code",
   "execution_count": 34,
   "id": "ed8d710d-49d3-4563-8123-d798eb7d5dd2",
   "metadata": {},
   "outputs": [
    {
     "data": {
      "text/plain": [
       "(0.04, 'yellow', (0, 0))"
      ]
     },
     "execution_count": 34,
     "metadata": {},
     "output_type": "execute_result"
    }
   ],
   "source": [
    "list"
   ]
  },
  {
   "cell_type": "code",
   "execution_count": 31,
   "id": "c5226ddc-50bd-4dfe-9783-0a227c3316aa",
   "metadata": {},
   "outputs": [
    {
     "data": {
      "text/plain": [
       "0"
      ]
     },
     "execution_count": 31,
     "metadata": {},
     "output_type": "execute_result"
    }
   ],
   "source": [
    "color = ['red','blue','yellow'] # list of colors\n",
    "9 % len(color)"
   ]
  },
  {
   "cell_type": "code",
   "execution_count": null,
   "id": "0f64c19d-6b85-434a-a96f-1104ec8e5412",
   "metadata": {},
   "outputs": [],
   "source": []
  },
  {
   "cell_type": "code",
   "execution_count": 41,
   "id": "02a303c9-e467-4c7a-baae-50614f9edd30",
   "metadata": {},
   "outputs": [
    {
     "data": {
      "text/plain": [
       "1"
      ]
     },
     "execution_count": 41,
     "metadata": {},
     "output_type": "execute_result"
    }
   ],
   "source": [
    "BALL_COLOR = ['red','blue','yellow']\n",
    "4 % len(BALL_COLOR)\n"
   ]
  },
  {
   "cell_type": "code",
   "execution_count": 48,
   "id": "c92e3852-3587-4b03-9209-0780b8087a5f",
   "metadata": {},
   "outputs": [
    {
     "data": {
      "text/plain": [
       "['red', 'blue', 'yellow']"
      ]
     },
     "execution_count": 48,
     "metadata": {},
     "output_type": "execute_result"
    }
   ],
   "source": [
    "        for i in range(len(BALL_COLOR)):\n",
    "            if i % len(BALL_COLOR) == 0:\n",
    "                BALL_COLOR = ['red','blue','yellow']\n",
    "BALL_COLOR"
   ]
  },
  {
   "cell_type": "code",
   "execution_count": 1,
   "id": "8112d233-9dc9-4c91-b65a-a020074ff9bb",
   "metadata": {},
   "outputs": [],
   "source": [
    "import utils"
   ]
  },
  {
   "cell_type": "code",
   "execution_count": 3,
   "id": "44e73575-2acd-49a9-85b6-5016ed21e6b3",
   "metadata": {},
   "outputs": [
    {
     "data": {
      "text/plain": [
       "'/Users/user/Dropbox/syncbox/python/7_memory_game/utils.py'"
      ]
     },
     "execution_count": 3,
     "metadata": {},
     "output_type": "execute_result"
    }
   ],
   "source": [
    "utils.__file__"
   ]
  },
  {
   "cell_type": "code",
   "execution_count": null,
   "id": "d3d6b6a1-28ef-45cc-8c55-1d5d1243cbd2",
   "metadata": {},
   "outputs": [],
   "source": []
  }
 ],
 "metadata": {
  "kernelspec": {
   "display_name": "Python 3 (ipykernel)",
   "language": "python",
   "name": "python3"
  },
  "language_info": {
   "codemirror_mode": {
    "name": "ipython",
    "version": 3
   },
   "file_extension": ".py",
   "mimetype": "text/x-python",
   "name": "python",
   "nbconvert_exporter": "python",
   "pygments_lexer": "ipython3",
   "version": "3.9.7"
  }
 },
 "nbformat": 4,
 "nbformat_minor": 5
}
