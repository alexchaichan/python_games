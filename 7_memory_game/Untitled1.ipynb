{
 "cells": [
  {
   "cell_type": "code",
   "execution_count": 2,
   "id": "8e1f85a0-2b5c-4a1c-8cfe-62d483b30048",
   "metadata": {},
   "outputs": [],
   "source": [
    "def position_from_index(index):\n",
    "    x = -0.75+(-0.25)*index\n",
    "    y = 0.5\n",
    "    \n",
    "    return x, y\n",
    "    \n",
    "############################################################\n",
    "\n",
    "i_chicken = [0, -2, -4, -6]"
   ]
  },
  {
   "cell_type": "code",
   "execution_count": 9,
   "id": "57c464ae-a9ab-4706-b62f-49b272ebc6c6",
   "metadata": {},
   "outputs": [
    {
     "name": "stdout",
     "output_type": "stream",
     "text": [
      "(-0.75, 0.5)\n",
      "(-0.25, 0.5)\n",
      "(0.25, 0.5)\n",
      "(0.75, 0.5)\n"
     ]
    }
   ],
   "source": [
    "for i in i_chicken:\n",
    "   print(position_from_index(i))\n",
    "    \n"
   ]
  },
  {
   "cell_type": "code",
   "execution_count": 12,
   "id": "7cf3e1b6-3209-4203-b957-0229c2613395",
   "metadata": {},
   "outputs": [],
   "source": [
    "def position_from_index(i_chicken):\n",
    "    \n",
    "    if i_chicken <= 3:\n",
    "        x = -0.75+0.5*i_chicken\n",
    "        y = 0.5\n",
    "    else:\n",
    "        x = -0.75+(-0.5)*-i_chicken -2\n",
    "        y = -0.5\n",
    "    \n",
    "    return x, y"
   ]
  },
  {
   "cell_type": "code",
   "execution_count": 13,
   "id": "07c092aa-bc93-4d7a-aed8-3e729645e7cf",
   "metadata": {},
   "outputs": [
    {
     "name": "stdout",
     "output_type": "stream",
     "text": [
      "(-0.75, 0.5)\n",
      "(-0.25, 0.5)\n",
      "(0.25, 0.5)\n",
      "(0.75, 0.5)\n",
      "(-0.75, -0.5)\n",
      "(-0.25, -0.5)\n",
      "(0.25, -0.5)\n",
      "(0.75, -0.5)\n"
     ]
    }
   ],
   "source": [
    "i_chicken = range(0,8)\n",
    "for i in i_chicken:\n",
    "   print(position_from_index(i))\n",
    "    "
   ]
  },
  {
   "cell_type": "code",
   "execution_count": 14,
   "id": "cd0622c8-cbb2-43ba-9513-cc7a19b71dc3",
   "metadata": {},
   "outputs": [
    {
     "name": "stdout",
     "output_type": "stream",
     "text": [
      "(-0.75, 0.5)\n",
      "(-0.25, 0.5)\n",
      "(0.25, 0.5)\n",
      "(0.75, 0.5)\n",
      "(1.25, -0.5)\n",
      "(1.75, -0.5)\n",
      "(2.25, -0.5)\n",
      "(2.75, -0.5)\n"
     ]
    }
   ],
   "source": [
    "def position_from_index(i_chicken):\n",
    "    \n",
    "    if i_chicken <= 3:\n",
    "        x = -0.75+0.5*i_chicken\n",
    "        y = 0.5\n",
    "    else:\n",
    "        x = -0.75+(-0.5)*-i_chicken\n",
    "        y = -0.5\n",
    "    \n",
    "    return x, y\n",
    "\n",
    "i_chicken = range(0,8)\n",
    "for i in i_chicken:\n",
    "   print(position_from_index(i))\n",
    "    "
   ]
  },
  {
   "cell_type": "code",
   "execution_count": null,
   "id": "0cba816d-aedd-4f52-a29b-43a93dd9aa1f",
   "metadata": {},
   "outputs": [],
   "source": []
  }
 ],
 "metadata": {
  "kernelspec": {
   "display_name": "Python 3 (ipykernel)",
   "language": "python",
   "name": "python3"
  },
  "language_info": {
   "codemirror_mode": {
    "name": "ipython",
    "version": 3
   },
   "file_extension": ".py",
   "mimetype": "text/x-python",
   "name": "python",
   "nbconvert_exporter": "python",
   "pygments_lexer": "ipython3",
   "version": "3.9.7"
  }
 },
 "nbformat": 4,
 "nbformat_minor": 5
}
