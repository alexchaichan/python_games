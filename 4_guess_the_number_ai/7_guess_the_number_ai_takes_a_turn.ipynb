{
 "cells": [
  {
   "cell_type": "markdown",
   "id": "4e882d98-94e1-4dfd-a7e7-39d5c70c99b9",
   "metadata": {},
   "source": [
    "# code01"
   ]
  },
  {
   "cell_type": "code",
   "execution_count": 271,
   "id": "648b0244-fdd3-4cb1-bb23-a265bd5cd16c",
   "metadata": {
    "tags": []
   },
   "outputs": [
    {
     "name": "stdout",
     "output_type": "stream",
     "text": [
      "guess the number\n"
     ]
    },
    {
     "name": "stdin",
     "output_type": "stream",
     "text": [
      "use > for higher, < for lower, = for right =\n"
     ]
    },
    {
     "name": "stdout",
     "output_type": "stream",
     "text": [
      "you got it\n"
     ]
    }
   ],
   "source": [
    "# starting prompt\n",
    "print('guess the number')\n",
    "\n",
    "#start looooooop\n",
    "while True:\n",
    "    \n",
    "    # guessing part\n",
    "    play = input('use > for higher, < for lower, = for right')\n",
    "    if play == str('>'):\n",
    "        print('higher')\n",
    "    elif play == str('<'):\n",
    "        print('lower')\n",
    "    elif play == str('='):\n",
    "        break\n",
    "    else:\n",
    "        play = input('use > for higher, < for lower, = for right')\n",
    "\n",
    "# winning message\n",
    "print('you got it')"
   ]
  },
  {
   "cell_type": "markdown",
   "id": "1e7fbf79-df97-4e26-9ce9-8db4cb6f52a6",
   "metadata": {
    "tags": []
   },
   "source": [
    "# code02"
   ]
  },
  {
   "cell_type": "code",
   "execution_count": 272,
   "id": "753e750f-950f-4629-bf37-d86b5a353f36",
   "metadata": {
    "tags": []
   },
   "outputs": [],
   "source": [
    "def input_response():\n",
    "\n",
    "    # guessing part\n",
    "    play = input('use > for higher, < for lower, = for right')\n",
    "    if play == str('>'):\n",
    "        print('higher')\n",
    "    elif play == str('<'):\n",
    "        print('lower')\n",
    "    elif play == str('='):\n",
    "        print('you got it')\n",
    "    else:\n",
    "        play = input('use > for higher, < for lower, = for right')"
   ]
  },
  {
   "cell_type": "code",
   "execution_count": 273,
   "id": "83562444-7da3-46a5-881c-657d976492f1",
   "metadata": {
    "tags": []
   },
   "outputs": [
    {
     "name": "stdin",
     "output_type": "stream",
     "text": [
      "use > for higher, < for lower, = for right <\n"
     ]
    },
    {
     "name": "stdout",
     "output_type": "stream",
     "text": [
      "lower\n"
     ]
    }
   ],
   "source": [
    "input_response()"
   ]
  },
  {
   "cell_type": "markdown",
   "id": "4186385d-467c-43c4-bbac-6c75e1701069",
   "metadata": {},
   "source": [
    "# code03"
   ]
  },
  {
   "cell_type": "code",
   "execution_count": 274,
   "id": "e84e89d9-d7d2-47c9-89e2-00c1a28d0beb",
   "metadata": {},
   "outputs": [],
   "source": [
    "def input_response(guess):\n",
    "    \n",
    "    \n",
    "        # guessing part\n",
    "    play = input('is it %s ?'%(guess))\n",
    "    if play == str('>'):\n",
    "        print('higher')\n",
    "    elif play == str('<'):\n",
    "        print('lower')\n",
    "    elif play == str('='):\n",
    "        print('you got it')\n",
    "    else:\n",
    "        play = input('use > for higher, < for lower, = for right')"
   ]
  },
  {
   "cell_type": "code",
   "execution_count": 275,
   "id": "0ace2198-fa7a-4afd-828a-2b6ddc254071",
   "metadata": {},
   "outputs": [
    {
     "name": "stdout",
     "output_type": "stream",
     "text": [
      "Think of a number between 0 and 100. \n",
      "Answer with: \">\" if your number is bigger.\"<\" if your number is smaller. \"=\" if the guesses is the correct number\n"
     ]
    },
    {
     "name": "stdin",
     "output_type": "stream",
     "text": [
      "is it 2 ? >\n"
     ]
    },
    {
     "name": "stdout",
     "output_type": "stream",
     "text": [
      "higher\n"
     ]
    }
   ],
   "source": [
    "print('Think of a number between 0 and 100. ')\n",
    "\n",
    "print('Answer with: \">\" if your number is bigger.\"<\" if your number is smaller. \"=\" if the guesses is the correct number')\n",
    "\n",
    "input_response(2)"
   ]
  },
  {
   "cell_type": "markdown",
   "id": "87df5997-e22c-48e3-b79b-d7cd595a43bf",
   "metadata": {
    "tags": []
   },
   "source": [
    "# code04"
   ]
  },
  {
   "cell_type": "code",
   "execution_count": 276,
   "id": "d61b9803-94bb-4216-8a20-09c3e063ff9f",
   "metadata": {},
   "outputs": [],
   "source": [
    "def input_response(guess):\n",
    "        \n",
    "    \n",
    "        # guessing part\n",
    "    play = input('is it %s ?'% guess)\n",
    "    if play == str('>'):\n",
    "        print('higher')\n",
    "    elif play == str('<'):\n",
    "        print('lower')\n",
    "    elif play == str('='):\n",
    "        print('you got it')\n",
    "    else:\n",
    "        play = input('use > for higher, < for lower, = for right')\n",
    "        \n",
    "        \n",
    "    return play\n",
    "\n",
    "    \n",
    "#########################################################################\n",
    "\n",
    "def split_interval(lower_limit, upper_limit):\n",
    "    \n",
    "    # parameters\n",
    "    \n",
    "    #lower : int\n",
    "    #upper : int\n",
    "    \n",
    "    \n",
    "    guess = (lower_limit + upper_limit) /2\n",
    "\n",
    "    \n",
    "    \n",
    "    # returns \n",
    "    \n",
    "    return int(round(guess)) #:int"
   ]
  },
  {
   "cell_type": "code",
   "execution_count": 277,
   "id": "ca3ae7ef-3c3a-43d9-800f-e0783d6d4569",
   "metadata": {},
   "outputs": [
    {
     "name": "stdout",
     "output_type": "stream",
     "text": [
      "Think of a number a number between 0 and 100. \n",
      "Answer with: \">\" if your number is bigger.\"<\" if your number is smaller. \"=\" if the guesses is the correct number\n"
     ]
    },
    {
     "name": "stdin",
     "output_type": "stream",
     "text": [
      "is it 50 ? <\n"
     ]
    },
    {
     "name": "stdout",
     "output_type": "stream",
     "text": [
      "lower\n"
     ]
    },
    {
     "data": {
      "text/plain": [
       "'<'"
      ]
     },
     "execution_count": 277,
     "metadata": {},
     "output_type": "execute_result"
    }
   ],
   "source": [
    "lower_limit = 0\n",
    "upper_limit = 100\n",
    "\n",
    "\n",
    "print('Think of a number a number between 0 and 100. ')\n",
    "\n",
    "\n",
    "print('Answer with: \">\" if your number is bigger.\"<\" if your number is smaller. \"=\" if the guesses is the correct number')\n",
    "\n",
    "input_response(split_interval(lower_limit, upper_limit))"
   ]
  },
  {
   "cell_type": "markdown",
   "id": "0e606d8e-f708-4f0c-bd38-d25b16aafc4c",
   "metadata": {},
   "source": [
    "# code05"
   ]
  },
  {
   "cell_type": "code",
   "execution_count": 283,
   "id": "479a247e-ed47-442e-bab7-a1056d70c0de",
   "metadata": {
    "tags": []
   },
   "outputs": [],
   "source": [
    "def input_response(guess):\n",
    "    \n",
    "    # guessing part\n",
    "    play = input('is it %s ?'% guess)\n",
    "\n",
    "\n",
    "    # compute the winning scenario\n",
    "    if play==str('='):\n",
    "        print(\"got it!\")\n",
    "    # compute the greater scenario   \n",
    "    elif play==str('>'):\n",
    "        print('higher')\n",
    "    # compute the lesser scenario\n",
    "    elif play==str('<'):\n",
    "        print('lower')\n",
    "    # compute invalid input scenario\n",
    "    else:\n",
    "        print(\"Invalid input\")\n",
    "        \n",
    "    return play\n",
    "\n",
    "##########################################################################\n",
    "\n",
    "def split_interval(lower_limit, upper_limit):\n",
    "    \n",
    "    #function: \n",
    "    \n",
    "    # shrinks the range of upper and lower limit\n",
    "    \n",
    "    # parameters\n",
    "    \n",
    "    #lower : int\n",
    "    #upper : int\n",
    "    \n",
    "    \n",
    "    guess = (lower_limit + upper_limit) /2\n",
    "\n",
    "    \n",
    "    \n",
    "    # returns \n",
    "    \n",
    "    return int(guess) #:int "
   ]
  },
  {
   "cell_type": "code",
   "execution_count": 284,
   "id": "45cf298b-4790-404e-ba91-06b2deb89d03",
   "metadata": {
    "tags": []
   },
   "outputs": [
    {
     "name": "stdin",
     "output_type": "stream",
     "text": [
      "choose lower limit 0\n",
      "choose upper limit 100\n"
     ]
    },
    {
     "name": "stdout",
     "output_type": "stream",
     "text": [
      "Think of a number between 0 and 100.\n",
      "Answer with: \n",
      " > if your number is bigger. \n",
      " < if your number is smaller. \n",
      " = if the guesses is the correct number\n"
     ]
    },
    {
     "name": "stdin",
     "output_type": "stream",
     "text": [
      "is it 50 ? <\n"
     ]
    },
    {
     "name": "stdout",
     "output_type": "stream",
     "text": [
      "lower\n"
     ]
    }
   ],
   "source": [
    "# lets define some variables\n",
    "lower_limit = int(input('choose lower limit'))\n",
    "upper_limit = int(input('choose upper limit'))\n",
    "\n",
    "\n",
    "# print instroction\n",
    "print('Think of a number between %d and %d.'%(lower_limit, upper_limit))\n",
    "print('Answer with: \\n > if your number is bigger. \\n < if your number is smaller. \\n = if the guesses is the correct number')\n",
    "\n",
    "# start the loop\n",
    "guess = input_response(split_interval(lower_limit,upper_limit))\n",
    "if guess == str('>'):\n",
    "    lower_limit=split_interval(lower_limit, upper_limit)\n",
    "    middle=round(((middle+upper_limit)/2),0)\n",
    "\n",
    "if guess == str('<'):\n",
    "    upper_limit=split_interval(lower_limit, upper_limit)\n",
    "    middle=round(((middle+lower_limit)/2),0)\n"
   ]
  },
  {
   "cell_type": "markdown",
   "id": "997d11b7-0d1d-4a14-86dc-934e3e19b8fd",
   "metadata": {},
   "source": [
    "# code06"
   ]
  },
  {
   "cell_type": "code",
   "execution_count": 286,
   "id": "cf3cce3d-0671-4559-a58f-6add654d6340",
   "metadata": {},
   "outputs": [
    {
     "name": "stdin",
     "output_type": "stream",
     "text": [
      "choose lower limit 0\n",
      "choose upper limit 100\n"
     ]
    },
    {
     "name": "stdout",
     "output_type": "stream",
     "text": [
      "Think of a number between 0 and 100.\n",
      "Answer with: \n",
      " > if your number is bigger. \n",
      " < if your number is smaller. \n",
      " = if the guesses is the correct number\n"
     ]
    },
    {
     "name": "stdin",
     "output_type": "stream",
     "text": [
      "is it 50 ? >\n"
     ]
    },
    {
     "name": "stdout",
     "output_type": "stream",
     "text": [
      "higher\n"
     ]
    },
    {
     "name": "stdin",
     "output_type": "stream",
     "text": [
      "is it 75 ? <\n"
     ]
    },
    {
     "name": "stdout",
     "output_type": "stream",
     "text": [
      "lower\n"
     ]
    },
    {
     "name": "stdin",
     "output_type": "stream",
     "text": [
      "is it 62 ? >\n"
     ]
    },
    {
     "name": "stdout",
     "output_type": "stream",
     "text": [
      "higher\n"
     ]
    },
    {
     "name": "stdin",
     "output_type": "stream",
     "text": [
      "is it 68 ? >\n"
     ]
    },
    {
     "name": "stdout",
     "output_type": "stream",
     "text": [
      "higher\n"
     ]
    },
    {
     "name": "stdin",
     "output_type": "stream",
     "text": [
      "is it 71 ? >\n"
     ]
    },
    {
     "name": "stdout",
     "output_type": "stream",
     "text": [
      "higher\n"
     ]
    },
    {
     "name": "stdin",
     "output_type": "stream",
     "text": [
      "is it 73 ? =\n"
     ]
    },
    {
     "name": "stdout",
     "output_type": "stream",
     "text": [
      "got it!\n"
     ]
    }
   ],
   "source": [
    "# lets define some variables\n",
    "lower_limit = int(input('choose lower limit'))\n",
    "upper_limit = int(input('choose upper limit'))\n",
    "\n",
    "\n",
    "# print instroction\n",
    "print('Think of a number between %d and %d.'%(lower_limit, upper_limit))\n",
    "print('Answer with: \\n > if your number is bigger. \\n < if your number is smaller. \\n = if the guesses is the correct number')\n",
    "\n",
    "# start the loop\n",
    "\n",
    "game_over = False\n",
    "\n",
    "while game_over == False:\n",
    "\n",
    "    guess = input_response(split_interval(lower_limit,upper_limit))\n",
    "    if guess == str('>'):\n",
    "        lower_limit=split_interval(lower_limit, upper_limit)\n",
    "        middle=round(((middle+upper_limit)/2),0)\n",
    "\n",
    "    if guess == str('<'):\n",
    "        upper_limit=split_interval(lower_limit, upper_limit)\n",
    "        middle=round(((middle+lower_limit)/2),0)\n",
    "        \n",
    "    if guess == str('='):\n",
    "        break"
   ]
  },
  {
   "cell_type": "markdown",
   "id": "62037b0f-196f-41aa-add0-32da48ff1726",
   "metadata": {},
   "source": [
    "# code 07"
   ]
  },
  {
   "cell_type": "code",
   "execution_count": 287,
   "id": "57474586-8856-4572-88ed-606c523634d9",
   "metadata": {},
   "outputs": [
    {
     "name": "stdin",
     "output_type": "stream",
     "text": [
      "choose lower limit 0\n",
      "choose upper limit 100\n"
     ]
    },
    {
     "name": "stdout",
     "output_type": "stream",
     "text": [
      "Think of a number between 0 and 100.\n",
      "Answer with: \n",
      " > if your number is bigger. \n",
      " < if your number is smaller. \n",
      " = if the guesses is the correct number\n"
     ]
    },
    {
     "name": "stdin",
     "output_type": "stream",
     "text": [
      "is it 50 ? =\n"
     ]
    },
    {
     "name": "stdout",
     "output_type": "stream",
     "text": [
      "got it!\n"
     ]
    },
    {
     "name": "stdin",
     "output_type": "stream",
     "text": [
      "want to play again? (Y/N) n\n"
     ]
    }
   ],
   "source": [
    "# lets define some variables\n",
    "lower_limit = int(input('choose lower limit'))\n",
    "upper_limit = int(input('choose upper limit'))\n",
    "\n",
    "\n",
    "# print instroction\n",
    "print('Think of a number between %d and %d.'%(lower_limit, upper_limit))\n",
    "print('Answer with: \\n > if your number is bigger. \\n < if your number is smaller. \\n = if the guesses is the correct number')\n",
    "\n",
    "# start the loop\n",
    "\n",
    "game_over = False\n",
    "\n",
    "want_to_play = True\n",
    "\n",
    "while want_to_play:\n",
    "\n",
    "\n",
    "    while game_over == False:\n",
    "\n",
    "        guess = input_response(split_interval(lower_limit,upper_limit))\n",
    "        if guess == str('>'):\n",
    "            lower_limit=split_interval(lower_limit, upper_limit)\n",
    "            middle=round(((middle+upper_limit)/2),0)\n",
    "\n",
    "        if guess == str('<'):\n",
    "            upper_limit=split_interval(lower_limit, upper_limit)\n",
    "            middle=round(((middle+lower_limit)/2),0)\n",
    "\n",
    "        if guess == str('='):\n",
    "            break\n",
    "            \n",
    "    \n",
    "                # want to play again prompt\n",
    "    goon = input('want to play again? (Y/N)')\n",
    "    if goon == str('y') or goon == str('Y'):\n",
    "        want_to_play == True\n",
    "    elif goon == str('n') or goon == str('N'):\n",
    "        break\n",
    "        want_to_play == False\n",
    "    elif None:\n",
    "        goon = input('want to play again? (Y/N)')\n",
    "    else:\n",
    "        goon = input('want to play again? (Y/N)')"
   ]
  },
  {
   "cell_type": "markdown",
   "id": "567c08b9-231b-48de-bc44-651eda8c5944",
   "metadata": {},
   "source": [
    "# code08"
   ]
  },
  {
   "cell_type": "code",
   "execution_count": 289,
   "id": "8f5cecb2-928e-4133-9aab-82b3dbb5c68a",
   "metadata": {},
   "outputs": [
    {
     "name": "stdin",
     "output_type": "stream",
     "text": [
      "choose lower limit 0\n",
      "choose upper limit 10\n"
     ]
    },
    {
     "name": "stdout",
     "output_type": "stream",
     "text": [
      "Think of a number between 0 and 10.\n",
      "Answer with: \n",
      " > if your number is bigger. \n",
      " < if your number is smaller. \n",
      " = if the guesses is the correct number\n"
     ]
    },
    {
     "name": "stdin",
     "output_type": "stream",
     "text": [
      "is it 5 ? <\n"
     ]
    },
    {
     "name": "stdout",
     "output_type": "stream",
     "text": [
      "lower\n"
     ]
    },
    {
     "name": "stdin",
     "output_type": "stream",
     "text": [
      "is it 2 ? >\n"
     ]
    },
    {
     "name": "stdout",
     "output_type": "stream",
     "text": [
      "higher\n"
     ]
    },
    {
     "name": "stdin",
     "output_type": "stream",
     "text": [
      "is it 3 ? >\n"
     ]
    },
    {
     "name": "stdout",
     "output_type": "stream",
     "text": [
      "higher\n"
     ]
    },
    {
     "name": "stdin",
     "output_type": "stream",
     "text": [
      "is it 4 ? >\n"
     ]
    },
    {
     "name": "stdout",
     "output_type": "stream",
     "text": [
      "higher\n"
     ]
    },
    {
     "name": "stdin",
     "output_type": "stream",
     "text": [
      "is it 4 ? >\n"
     ]
    },
    {
     "name": "stdout",
     "output_type": "stream",
     "text": [
      "higher\n"
     ]
    },
    {
     "name": "stdin",
     "output_type": "stream",
     "text": [
      "is it 4 ? >\n"
     ]
    },
    {
     "name": "stdout",
     "output_type": "stream",
     "text": [
      "higher\n"
     ]
    },
    {
     "name": "stdin",
     "output_type": "stream",
     "text": [
      "is it 4 ? =\n"
     ]
    },
    {
     "name": "stdout",
     "output_type": "stream",
     "text": [
      "got it!\n",
      "got it! 7 attempts\n"
     ]
    },
    {
     "name": "stdin",
     "output_type": "stream",
     "text": [
      "want to play again? (Y/N) n\n"
     ]
    },
    {
     "name": "stdout",
     "output_type": "stream",
     "text": [
      "Thank you for playing the game 1 times! Your best try was 7 attempts\n"
     ]
    }
   ],
   "source": [
    "# lets define some variables\n",
    "lower_limit = int(input('choose lower limit'))\n",
    "upper_limit = int(input('choose upper limit'))\n",
    "\n",
    "\n",
    "# print instroction\n",
    "print('Think of a number between %d and %d.'%(lower_limit, upper_limit))\n",
    "print('Answer with: \\n > if your number is bigger. \\n < if your number is smaller. \\n = if the guesses is the correct number')\n",
    "\n",
    "# start the loop\n",
    "\n",
    "game_over = False\n",
    "\n",
    "want_to_play = True\n",
    "attempt = 0\n",
    "fewest_attempts = 100\n",
    "games_played = 0\n",
    "\n",
    "\n",
    "while want_to_play:\n",
    "    \n",
    "    games_played += 1\n",
    "\n",
    "\n",
    "    while game_over == False:\n",
    "\n",
    "        guess = input_response(split_interval(lower_limit,upper_limit))\n",
    "        if guess == str('>'):\n",
    "            attempt += 1\n",
    "            lower_limit=split_interval(lower_limit, upper_limit)\n",
    "            middle=round(((middle+upper_limit)/2),0)\n",
    "            \n",
    "\n",
    "        if guess == str('<'):\n",
    "            upper_limit=split_interval(lower_limit, upper_limit)\n",
    "            middle=round(((middle+lower_limit)/2),0)\n",
    "            attempt += 1\n",
    "\n",
    "        if guess == str('='):\n",
    "            attempt += 1\n",
    "            print(\"got it! %d attempts\"%(attempt))\n",
    "            break\n",
    "            \n",
    "            \n",
    "            \n",
    "    # count best attempt      \n",
    "    MAX_ATTEMPTS = attempt\n",
    "    if MAX_ATTEMPTS < fewest_attempts:\n",
    "        fewest_attempts = MAX_ATTEMPTS\n",
    "            \n",
    "    \n",
    "                # want to play again prompt\n",
    "    goon = input('want to play again? (Y/N)')\n",
    "    if goon == str('y') or goon == str('Y'):\n",
    "        want_to_play == True\n",
    "    elif goon == str('n') or goon == str('N'):\n",
    "        break\n",
    "        want_to_play == False\n",
    "    elif None:\n",
    "        goon = input('want to play again? (Y/N)')\n",
    "    else:\n",
    "        goon = input('want to play again? (Y/N)')\n",
    "        \n",
    "        \n",
    "        \n",
    "    attempt = 0 # restart attempts after every game\n",
    "\n",
    "        \n",
    "    # start the game as a fresh round\n",
    "    if play == '=':\n",
    "        lower_limit = int(input('choose lower limit'))\n",
    "        upper_limit = int(input('choose upper limit'))\n",
    "        middle = split_interval(lower_limit, upper_limit)\n",
    "        \n",
    "    # final  prompt\n",
    "print('Thank you for playing the game '+str(games_played)+' times! Your best try was '+str(fewest_attempts)+' attempts')"
   ]
  },
  {
   "cell_type": "markdown",
   "id": "6f07127a-09ed-4ffb-90e8-9b73651a52ae",
   "metadata": {},
   "source": [
    "# code 09"
   ]
  },
  {
   "cell_type": "code",
   "execution_count": 2,
   "id": "8723077b-64af-4cbd-80ac-b3a783750ef1",
   "metadata": {},
   "outputs": [
    {
     "name": "stdin",
     "output_type": "stream",
     "text": [
      "choose lower limit 0\n",
      "choose upper limit 10\n"
     ]
    },
    {
     "name": "stdout",
     "output_type": "stream",
     "text": [
      "Think of a number between 0 and 10.\n",
      "Answer with: \n",
      " > if your number is bigger. \n",
      " < if your number is smaller. \n",
      " = if the guesses is the correct number\n"
     ]
    },
    {
     "ename": "NameError",
     "evalue": "name 'input_response' is not defined",
     "output_type": "error",
     "traceback": [
      "\u001b[0;31m---------------------------------------------------------------------------\u001b[0m",
      "\u001b[0;31mNameError\u001b[0m                                 Traceback (most recent call last)",
      "Input \u001b[0;32mIn [2]\u001b[0m, in \u001b[0;36m<cell line: 22>\u001b[0;34m()\u001b[0m\n\u001b[1;32m     24\u001b[0m games_played \u001b[38;5;241m+\u001b[39m\u001b[38;5;241m=\u001b[39m \u001b[38;5;241m1\u001b[39m\n\u001b[1;32m     27\u001b[0m \u001b[38;5;28;01mwhile\u001b[39;00m game_over \u001b[38;5;241m==\u001b[39m \u001b[38;5;28;01mFalse\u001b[39;00m:\n\u001b[0;32m---> 29\u001b[0m     guess \u001b[38;5;241m=\u001b[39m \u001b[43minput_response\u001b[49m(split_interval(lower_limit,upper_limit))\n\u001b[1;32m     30\u001b[0m     \u001b[38;5;28;01mif\u001b[39;00m guess \u001b[38;5;241m==\u001b[39m \u001b[38;5;28mstr\u001b[39m(\u001b[38;5;124m'\u001b[39m\u001b[38;5;124m>\u001b[39m\u001b[38;5;124m'\u001b[39m):\n\u001b[1;32m     31\u001b[0m         attempt \u001b[38;5;241m+\u001b[39m\u001b[38;5;241m=\u001b[39m \u001b[38;5;241m1\u001b[39m\n",
      "\u001b[0;31mNameError\u001b[0m: name 'input_response' is not defined"
     ]
    }
   ],
   "source": [
    "import utils\n",
    "\n",
    "# lets define some variables\n",
    "lower_limit = int(input('choose lower limit'))\n",
    "upper_limit = int(input('choose upper limit'))\n",
    "\n",
    "\n",
    "# print instroction\n",
    "print('Think of a number between %d and %d.'%(lower_limit, upper_limit))\n",
    "print('Answer with: \\n > if your number is bigger. \\n < if your number is smaller. \\n = if the guesses is the correct number')\n",
    "\n",
    "# start the loop\n",
    "\n",
    "game_over = False\n",
    "\n",
    "want_to_play = True\n",
    "attempt = 0\n",
    "fewest_attempts = 100\n",
    "games_played = 0\n",
    "\n",
    "\n",
    "while want_to_play:\n",
    "    \n",
    "    games_played += 1\n",
    "\n",
    "\n",
    "    while game_over == False:\n",
    "\n",
    "        guess = input_response(split_interval(lower_limit,upper_limit))\n",
    "        if guess == str('>'):\n",
    "            attempt += 1\n",
    "            lower_limit=split_interval(lower_limit, upper_limit)\n",
    "            middle=round(((middle+upper_limit)/2),0)\n",
    "            \n",
    "\n",
    "        if guess == str('<'):\n",
    "            upper_limit=split_interval(lower_limit, upper_limit)\n",
    "            middle=round(((middle+lower_limit)/2),0)\n",
    "            attempt += 1\n",
    "\n",
    "        if guess == str('='):\n",
    "            attempt += 1\n",
    "            print(\"got it! %d attempts\"%(attempt))\n",
    "            break\n",
    "            \n",
    "            \n",
    "            \n",
    "    # count best attempt      \n",
    "    MAX_ATTEMPTS = attempt\n",
    "    if MAX_ATTEMPTS < fewest_attempts:\n",
    "        fewest_attempts = MAX_ATTEMPTS\n",
    "            \n",
    "    \n",
    "                # want to play again prompt\n",
    "    goon = input('want to play again? (Y/N)')\n",
    "    if goon == str('y') or goon == str('Y'):\n",
    "        want_to_play == True\n",
    "    elif goon == str('n') or goon == str('N'):\n",
    "        break\n",
    "        want_to_play == False\n",
    "    elif None:\n",
    "        goon = input('want to play again? (Y/N)')\n",
    "    else:\n",
    "        goon = input('want to play again? (Y/N)')\n",
    "        \n",
    "        \n",
    "        \n",
    "    attempt = 0 # restart attempts after every game\n",
    "\n",
    "        \n",
    "    # start the game as a fresh round\n",
    "    if play == '=':\n",
    "        lower_limit = int(input('choose lower limit'))\n",
    "        upper_limit = int(input('choose upper limit'))\n",
    "        middle = split_interval(lower_limit, upper_limit)\n",
    "        \n",
    "    # final  prompt\n",
    "print('Thank you for playing the game '+str(games_played)+' times! Your best try was '+str(fewest_attempts)+' attempts')"
   ]
  },
  {
   "cell_type": "code",
   "execution_count": null,
   "id": "0073a052-c017-42a3-8a3b-2d7f81ce9777",
   "metadata": {},
   "outputs": [],
   "source": []
  }
 ],
 "metadata": {
  "kernelspec": {
   "display_name": "Python 3 (ipykernel)",
   "language": "python",
   "name": "python3"
  },
  "language_info": {
   "codemirror_mode": {
    "name": "ipython",
    "version": 3
   },
   "file_extension": ".py",
   "mimetype": "text/x-python",
   "name": "python",
   "nbconvert_exporter": "python",
   "pygments_lexer": "ipython3",
   "version": "3.10.5"
  },
  "toc-autonumbering": false,
  "toc-showcode": false,
  "toc-showmarkdowntxt": false
 },
 "nbformat": 4,
 "nbformat_minor": 5
}
