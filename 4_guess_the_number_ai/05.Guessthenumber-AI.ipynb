{
 "cells": [
  {
   "cell_type": "markdown",
   "metadata": {},
   "source": [
    "# Seminar 04. Guess the Number: AI takes a turn"
   ]
  },
  {
   "cell_type": "markdown",
   "metadata": {},
   "source": [
    "### Exercise 01. Defining functions\n",
    "In the example below, which function call will work and which will throw an error? Do not run the code, think and, then, write you answer here.\n",
    "\n",
    "**Answer:** 1st works, 2nd error"
   ]
  },
  {
   "cell_type": "code",
   "execution_count": 2,
   "metadata": {
    "tags": []
   },
   "outputs": [
    {
     "name": "stdout",
     "output_type": "stream",
     "text": [
      "Doing it!\n"
     ]
    },
    {
     "ename": "NameError",
     "evalue": "name 'do_something_else' is not defined",
     "output_type": "error",
     "traceback": [
      "\u001b[0;31m---------------------------------------------------------------------------\u001b[0m",
      "\u001b[0;31mNameError\u001b[0m                                 Traceback (most recent call last)",
      "Input \u001b[0;32mIn [2]\u001b[0m, in \u001b[0;36m<cell line: 8>\u001b[0;34m()\u001b[0m\n\u001b[1;32m      5\u001b[0m     \u001b[38;5;28mprint\u001b[39m(\u001b[38;5;124m\"\u001b[39m\u001b[38;5;124mDoing it!\u001b[39m\u001b[38;5;124m\"\u001b[39m)\n\u001b[1;32m      7\u001b[0m do_something()\n\u001b[0;32m----> 8\u001b[0m \u001b[43mdo_something_else\u001b[49m()\n\u001b[1;32m     10\u001b[0m \u001b[38;5;28;01mdef\u001b[39;00m \u001b[38;5;21mdo_something_else\u001b[39m():\n\u001b[1;32m     11\u001b[0m     \u001b[38;5;124;03m\"\"\"\u001b[39;00m\n\u001b[1;32m     12\u001b[0m \u001b[38;5;124;03m    Does something else!\u001b[39;00m\n\u001b[1;32m     13\u001b[0m \u001b[38;5;124;03m    \"\"\"\u001b[39;00m\n",
      "\u001b[0;31mNameError\u001b[0m: name 'do_something_else' is not defined"
     ]
    }
   ],
   "source": [
    "def do_something():\n",
    "    \"\"\"\n",
    "    Does something!\n",
    "    \"\"\"\n",
    "    print(\"Doing it!\")\n",
    "    \n",
    "do_something()\n",
    "do_something_else()\n",
    "\n",
    "def do_something_else():\n",
    "    \"\"\"\n",
    "    Does something else!\n",
    "    \"\"\"\n",
    "    print(\"And now to something completely different...\")   "
   ]
  },
  {
   "cell_type": "markdown",
   "metadata": {},
   "source": [
    "### Exercise 02. Redefining functions\n",
    "What will be printed in the example below?\n",
    "\n",
    "**Answer:** \"I refuse to print\""
   ]
  },
  {
   "cell_type": "code",
   "execution_count": 4,
   "metadata": {},
   "outputs": [
    {
     "name": "stdout",
     "output_type": "stream",
     "text": [
      "I refuse to print\n"
     ]
    }
   ],
   "source": [
    "def print_something():\n",
    "    \"\"\"\n",
    "    Prints \"something\"\n",
    "    \"\"\"\n",
    "    print(\"something\")\n",
    "    \n",
    "def print_something():\n",
    "    \"\"\"\n",
    "    Prints \"I refuse to print\"\n",
    "    \"\"\"\n",
    "    print(\"I refuse to print\")\n",
    "    \n",
    "print_something()"
   ]
  },
  {
   "cell_type": "markdown",
   "metadata": {},
   "source": [
    "### Exercise 03. Arguments\n",
    "Which function call will produce correct (meaningful) results and which will throw an error?\n",
    "**Answers:**\n",
    "1.  correct\n",
    "2.  not meaningful \n",
    "3.  error. missing argument"
   ]
  },
  {
   "cell_type": "code",
   "execution_count": 6,
   "metadata": {},
   "outputs": [
    {
     "name": "stdout",
     "output_type": "stream",
     "text": [
      "44\n",
      "-44\n"
     ]
    },
    {
     "ename": "TypeError",
     "evalue": "print_age() missing 1 required positional argument: 'current_year'",
     "output_type": "error",
     "traceback": [
      "\u001b[0;31m---------------------------------------------------------------------------\u001b[0m",
      "\u001b[0;31mTypeError\u001b[0m                                 Traceback (most recent call last)",
      "Input \u001b[0;32mIn [6]\u001b[0m, in \u001b[0;36m<cell line: 22>\u001b[0;34m()\u001b[0m\n\u001b[1;32m     19\u001b[0m print_age(today_is, i_was_born)\n\u001b[1;32m     21\u001b[0m \u001b[38;5;66;03m#3\u001b[39;00m\n\u001b[0;32m---> 22\u001b[0m \u001b[43mprint_age\u001b[49m\u001b[43m(\u001b[49m\u001b[43mi_was_born\u001b[49m\u001b[43m)\u001b[49m\n",
      "\u001b[0;31mTypeError\u001b[0m: print_age() missing 1 required positional argument: 'current_year'"
     ]
    }
   ],
   "source": [
    "def print_age(birth_year, current_year):\n",
    "    \"\"\"\n",
    "    Computes age given birth year and current year.\n",
    "\n",
    "    Parameters\n",
    "    ----------\n",
    "    birth_year : int\n",
    "    current_year : int\n",
    "    \"\"\"\n",
    "    print(current_year - birth_year)\n",
    "\n",
    "i_was_born = 1976\n",
    "today_is = 2020\n",
    "\n",
    "#1\n",
    "print_age(i_was_born, today_is)\n",
    "\n",
    "#2\n",
    "print_age(today_is, i_was_born)\n",
    "\n",
    "#3\n",
    "print_age(i_was_born)"
   ]
  },
  {
   "cell_type": "markdown",
   "metadata": {},
   "source": [
    "### Exercise 04, returning a value\n",
    "For which function call the value will be stored or used, and for which call it will be unused and, hence, lost forever (probably, will vanish into the nearest black hole)?\n",
    "\n",
    "**Answers:**\n",
    "1.  stored and used\n",
    "2.  not stred, so not used\n",
    "3.  printed"
   ]
  },
  {
   "cell_type": "code",
   "execution_count": 8,
   "metadata": {},
   "outputs": [
    {
     "name": "stdout",
     "output_type": "stream",
     "text": [
      "44\n",
      "You are definitely over 40!\n"
     ]
    }
   ],
   "source": [
    "def compute_age(birth_year, current_year):\n",
    "    \"\"\"\n",
    "    Computes age given birth year and current year.\n",
    "\n",
    "    Parameters\n",
    "    ----------\n",
    "    birth_year : int\n",
    "    current_year : int\n",
    "    \n",
    "    Returns\n",
    "    ----------\n",
    "    int : age\n",
    "    \"\"\"\n",
    "    return current_year - birth_year\n",
    "\n",
    "# 1.\n",
    "my_age = compute_age(1976, 2020)\n",
    "print(my_age)\n",
    "\n",
    "# 2.\n",
    "compute_age(1976, 2020)\n",
    "\n",
    "# 3.\n",
    "if compute_age(1976, 2020) > 40:\n",
    "    print(\"You are definitely over 40!\")\n",
    "else:\n",
    "    print(\"When I was your age...\")"
   ]
  },
  {
   "cell_type": "markdown",
   "metadata": {},
   "source": [
    "### Exercise 05,visibility scopes.\n",
    "What will be printed and why? \n",
    "\n",
    "**Answer #1:** x = 5 because the value from the function is used"
   ]
  },
  {
   "cell_type": "code",
   "execution_count": 9,
   "metadata": {},
   "outputs": [
    {
     "name": "stdout",
     "output_type": "stream",
     "text": [
      "5\n"
     ]
    }
   ],
   "source": [
    "def do_something():\n",
    "    \"\"\"\n",
    "    Does something!\n",
    "    \"\"\"\n",
    "    x = 5\n",
    "    print(x)\n",
    "    \n",
    "    \n",
    "x = 1\n",
    "do_something()"
   ]
  },
  {
   "cell_type": "markdown",
   "metadata": {},
   "source": [
    "**Answer #2:** only 1 because the function doesent return or print a value"
   ]
  },
  {
   "cell_type": "code",
   "execution_count": 1,
   "metadata": {},
   "outputs": [
    {
     "name": "stdout",
     "output_type": "stream",
     "text": [
      "1\n"
     ]
    }
   ],
   "source": [
    "def do_something():\n",
    "    \"\"\"\n",
    "    Does something!\n",
    "    \"\"\"\n",
    "    x = 5\n",
    "    \n",
    "x = 1\n",
    "do_something()\n",
    "print(x)"
   ]
  },
  {
   "cell_type": "markdown",
   "metadata": {},
   "source": [
    "**Answer #3:** 1 again because  x is defined as 1 and when we use it in our function the as the first argument it gets just printed as y"
   ]
  },
  {
   "cell_type": "code",
   "execution_count": 19,
   "metadata": {},
   "outputs": [
    {
     "name": "stdout",
     "output_type": "stream",
     "text": [
      "1\n"
     ]
    }
   ],
   "source": [
    "def do_something(y):\n",
    "    \"\"\"\n",
    "    Does something!\n",
    "    \"\"\"\n",
    "    x = 5\n",
    "    print(y)\n",
    "    \n",
    "x = 1\n",
    "do_something(x)"
   ]
  },
  {
   "cell_type": "markdown",
   "metadata": {},
   "source": [
    "**Answer #4:** and again 1 because the function do_something doesnt store anything "
   ]
  },
  {
   "cell_type": "code",
   "execution_count": 26,
   "metadata": {},
   "outputs": [
    {
     "name": "stdout",
     "output_type": "stream",
     "text": [
      "1\n"
     ]
    },
    {
     "data": {
      "text/plain": [
       "6"
      ]
     },
     "execution_count": 26,
     "metadata": {},
     "output_type": "execute_result"
    }
   ],
   "source": [
    "def do_something(x):\n",
    "    \"\"\"\n",
    "    Does something!\n",
    "    \"\"\"\n",
    "    x = x + 5\n",
    "    return x\n",
    "    \n",
    "    \n",
    "x = 1\n",
    "do_something(x)\n",
    "print(x)\n",
    "do_something(x)\n"
   ]
  },
  {
   "cell_type": "markdown",
   "metadata": {},
   "source": [
    "**Answer #5:** in this case 6 because its stored"
   ]
  },
  {
   "cell_type": "code",
   "execution_count": 21,
   "metadata": {},
   "outputs": [
    {
     "name": "stdout",
     "output_type": "stream",
     "text": [
      "6\n"
     ]
    }
   ],
   "source": [
    "def do_something(x):\n",
    "    \"\"\"\n",
    "    Does something!\n",
    "    \"\"\"\n",
    "    x = x + 5\n",
    "    return x\n",
    "    \n",
    "    \n",
    "x = 1\n",
    "x = do_something(x)\n",
    "print(x)"
   ]
  },
  {
   "cell_type": "markdown",
   "metadata": {},
   "source": [
    "**Answer #6:** 6 because x is defined the last time as 6 with the do_something function"
   ]
  },
  {
   "cell_type": "code",
   "execution_count": 16,
   "metadata": {},
   "outputs": [
    {
     "data": {
      "text/plain": [
       "6"
      ]
     },
     "execution_count": 16,
     "metadata": {},
     "output_type": "execute_result"
    }
   ],
   "source": []
  },
  {
   "cell_type": "raw",
   "metadata": {},
   "source": [
    "**Answer #7:** 10 because its just print the last function and the first x is not called"
   ]
  },
  {
   "cell_type": "code",
   "execution_count": 29,
   "metadata": {},
   "outputs": [
    {
     "name": "stdout",
     "output_type": "stream",
     "text": [
      "10\n"
     ]
    }
   ],
   "source": [
    "def do_something(x):\n",
    "    \"\"\"\n",
    "    Does something!\n",
    "    \"\"\"\n",
    "    x = x + 5\n",
    "    return x\n",
    "    \n",
    "def yet_another_function(x):\n",
    "    \"\"\"\n",
    "    Another one!\n",
    "    \"\"\"\n",
    "    x = 10\n",
    "    print(x)\n",
    "    \n",
    "x = 1\n",
    "x = do_something(x)\n",
    "yet_another_function(x)"
   ]
  },
  {
   "cell_type": "markdown",
   "metadata": {},
   "source": [
    "**Answer #8:** 6 because the x gets overwritten with the last do_something_function"
   ]
  },
  {
   "cell_type": "code",
   "execution_count": 30,
   "metadata": {},
   "outputs": [
    {
     "name": "stdout",
     "output_type": "stream",
     "text": [
      "6\n"
     ]
    }
   ],
   "source": [
    "def do_something(x):\n",
    "    \"\"\"\n",
    "    Does something!\n",
    "    \"\"\"\n",
    "    x = x + 5\n",
    "    return x\n",
    "    \n",
    "def yet_another_function(x):\n",
    "    \"\"\"\n",
    "    Another one!\n",
    "    \"\"\"\n",
    "    x = 10\n",
    "    return x\n",
    "    \n",
    "x = 1\n",
    "yet_another_function(x)\n",
    "x = do_something(x)\n",
    "print(x)"
   ]
  },
  {
   "cell_type": "markdown",
   "metadata": {},
   "source": [
    "**Answer #9:**  1 because the x is just printed and the last x is not called"
   ]
  },
  {
   "cell_type": "code",
   "execution_count": 22,
   "metadata": {},
   "outputs": [
    {
     "name": "stdout",
     "output_type": "stream",
     "text": [
      "1\n"
     ]
    }
   ],
   "source": [
    "def do_something(x):\n",
    "    \"\"\"\n",
    "    Does something!\n",
    "    \"\"\"\n",
    "    x = x + 5\n",
    "    return x\n",
    "    \n",
    "def yet_another_function(x):\n",
    "    \"\"\"\n",
    "    Another one!\n",
    "    \"\"\"\n",
    "    x = 10\n",
    "    return x\n",
    "    \n",
    "x = 1\n",
    "yet_another_function(x)\n",
    "print(x)\n",
    "x = do_something(x)"
   ]
  },
  {
   "cell_type": "markdown",
   "metadata": {},
   "source": [
    "**Answer #10:** 1 just gets printed"
   ]
  },
  {
   "cell_type": "code",
   "execution_count": 32,
   "metadata": {},
   "outputs": [
    {
     "name": "stdout",
     "output_type": "stream",
     "text": [
      "1\n"
     ]
    }
   ],
   "source": [
    "def do_something(x):\n",
    "    \"\"\"\n",
    "    Does something!\n",
    "    \"\"\"\n",
    "    return x < 1\n",
    "    \n",
    "def yet_another_function(x):\n",
    "    \"\"\"\n",
    "    Another one!\n",
    "    \"\"\"\n",
    "    print(x)\n",
    "    \n",
    "x = 1\n",
    "if do_something(x):\n",
    "    yet_another_function(x + 10)\n",
    "else:\n",
    "    print(x)"
   ]
  },
  {
   "cell_type": "markdown",
   "metadata": {},
   "source": [
    "**Answer #11:**  20 because the loop brak at 20"
   ]
  },
  {
   "cell_type": "code",
   "execution_count": 21,
   "metadata": {},
   "outputs": [
    {
     "name": "stdout",
     "output_type": "stream",
     "text": [
      "25\n"
     ]
    }
   ],
   "source": [
    "def do_something(x):\n",
    "    \"\"\"\n",
    "    Does something!\n",
    "    \"\"\"\n",
    "    x = x + 5\n",
    "    return x\n",
    "    \n",
    "def yet_another_function(x):\n",
    "    \"\"\"\n",
    "    Another one!\n",
    "    \"\"\"\n",
    "    x = 10\n",
    "    return x\n",
    "    \n",
    "x = yet_another_function(1)\n",
    "while x < 20:\n",
    "    x = do_something(x)\n",
    "print(x)"
   ]
  },
  {
   "cell_type": "markdown",
   "metadata": {},
   "source": [
    "**Answer #12:** 20  same here loop breaks at 20"
   ]
  },
  {
   "cell_type": "code",
   "execution_count": 41,
   "metadata": {},
   "outputs": [
    {
     "name": "stdout",
     "output_type": "stream",
     "text": [
      "20\n"
     ]
    }
   ],
   "source": [
    "def do_something(x):\n",
    "    \"\"\"\n",
    "    Does something!\n",
    "    \"\"\"\n",
    "    x = x + 2\n",
    "    return x\n",
    "    \n",
    "def yet_another_function(x):\n",
    "    \"\"\"\n",
    "    Another one!\n",
    "    \"\"\"\n",
    "    return x * 2\n",
    "    \n",
    "x = yet_another_function(3)\n",
    "while x < 20:\n",
    "    x = do_something(x)\n",
    "    if x == 13:\n",
    "        break\n",
    "print(x)"
   ]
  }
 ],
 "metadata": {
  "kernelspec": {
   "display_name": "Python 3 (ipykernel)",
   "language": "python",
   "name": "python3"
  },
  "language_info": {
   "codemirror_mode": {
    "name": "ipython",
    "version": 3
   },
   "file_extension": ".py",
   "mimetype": "text/x-python",
   "name": "python",
   "nbconvert_exporter": "python",
   "pygments_lexer": "ipython3",
   "version": "3.10.4"
  }
 },
 "nbformat": 4,
 "nbformat_minor": 4
}
