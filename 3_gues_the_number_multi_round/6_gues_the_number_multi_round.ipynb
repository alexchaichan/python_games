{
 "cells": [
  {
   "cell_type": "markdown",
   "id": "b02cddc7-bd92-4b42-b4c1-e562b1efa445",
   "metadata": {},
   "source": [
    "# code01"
   ]
  },
  {
   "cell_type": "code",
   "execution_count": null,
   "id": "688faf88-1e87-4927-90a0-5f45e740defa",
   "metadata": {},
   "outputs": [
    {
     "name": "stdin",
     "output_type": "stream",
     "text": [
      "guess the number! 14\n"
     ]
    },
    {
     "name": "stdout",
     "output_type": "stream",
     "text": [
      "too low\n"
     ]
    },
    {
     "name": "stdin",
     "output_type": "stream",
     "text": [
      "guess the number! 18\n"
     ]
    },
    {
     "name": "stdout",
     "output_type": "stream",
     "text": [
      "too low\n"
     ]
    },
    {
     "name": "stdin",
     "output_type": "stream",
     "text": [
      "guess the number! 19\n"
     ]
    },
    {
     "name": "stdout",
     "output_type": "stream",
     "text": [
      "too low\n"
     ]
    },
    {
     "name": "stdin",
     "output_type": "stream",
     "text": [
      "guess the number! 20\n"
     ]
    },
    {
     "name": "stdout",
     "output_type": "stream",
     "text": [
      "Spot on!\n"
     ]
    }
   ],
   "source": [
    "import random\n",
    "\n",
    "number = random.randint(1,20)\n",
    "\n",
    "while True == True:\n",
    "    guess = int(input('guess the number!'))\n",
    "    \n",
    "    if  guess < number:\n",
    "        print('too low')\n",
    "    if guess > number:\n",
    "        print('too high')\n",
    "    if guess == number:\n",
    "        break\n",
    "        \n",
    "if guess == number:\n",
    "    print('Spot on!')\n",
    "\n",
    "        \n",
    "                \n",
    "    \n",
    "\n",
    "    \n"
   ]
  },
  {
   "cell_type": "code",
   "execution_count": null,
   "id": "6c2d5628-02a4-482d-b9d2-910cc5c3c552",
   "metadata": {},
   "outputs": [],
   "source": [
    "# code01 my way\n",
    "import random\n",
    "\n",
    "number_picked = random.randint(1,20)\n",
    "guess = int(input('guess the number!'))\n",
    "\n",
    "while number_picked != guess:\n",
    "    if  guess < number_picked:\n",
    "        print('my number is larger')\n",
    "        \n",
    "    elif guess > number_picked:\n",
    "        print('my number is smaller')\n",
    "    \n",
    "    guess = int(input('guess the number!'))\n",
    "        \n",
    "print('Spot on!')"
   ]
  },
  {
   "cell_type": "markdown",
   "id": "6e2608b0-709e-4581-9c58-e3de09a1577f",
   "metadata": {},
   "source": [
    "# code02"
   ]
  },
  {
   "cell_type": "code",
   "execution_count": 15,
   "id": "3a3abc66-274c-455a-b8c2-5656e1ace41d",
   "metadata": {},
   "outputs": [
    {
     "name": "stdin",
     "output_type": "stream",
     "text": [
      "guess the number! 1\n"
     ]
    },
    {
     "name": "stdout",
     "output_type": "stream",
     "text": [
      "too low\n"
     ]
    },
    {
     "name": "stdin",
     "output_type": "stream",
     "text": [
      "guess the number! 7\n"
     ]
    },
    {
     "name": "stdout",
     "output_type": "stream",
     "text": [
      "too high\n"
     ]
    },
    {
     "name": "stdin",
     "output_type": "stream",
     "text": [
      "guess the number! 4\n"
     ]
    },
    {
     "name": "stdout",
     "output_type": "stream",
     "text": [
      "too high\n"
     ]
    },
    {
     "name": "stdin",
     "output_type": "stream",
     "text": [
      "guess the number! 5\n"
     ]
    },
    {
     "name": "stdout",
     "output_type": "stream",
     "text": [
      "too high\n"
     ]
    },
    {
     "name": "stdin",
     "output_type": "stream",
     "text": [
      "guess the number! 2\n"
     ]
    },
    {
     "name": "stdout",
     "output_type": "stream",
     "text": [
      "too low\n"
     ]
    },
    {
     "name": "stdin",
     "output_type": "stream",
     "text": [
      "guess the number! 3\n"
     ]
    },
    {
     "name": "stdout",
     "output_type": "stream",
     "text": [
      "Spot on! 6 attempts\n"
     ]
    }
   ],
   "source": [
    "import random\n",
    "\n",
    "number = random.randint(1,20)\n",
    "attempt = 0\n",
    "\n",
    "while True == True:\n",
    "    guess = int(input('guess the number!'))\n",
    "    \n",
    "    attempt += 1\n",
    "    \n",
    "    if  guess < number:\n",
    "        print('too low')\n",
    "    if guess > number:\n",
    "        print('too high')\n",
    "    if guess == number:\n",
    "        break\n",
    "        \n",
    "if guess == number:\n",
    "    print('Spot on! %d attempts'%(attempt))\n"
   ]
  },
  {
   "cell_type": "code",
   "execution_count": 20,
   "id": "a56fd79b-8581-469b-a995-692b70070a3f",
   "metadata": {},
   "outputs": [
    {
     "name": "stdin",
     "output_type": "stream",
     "text": [
      "guess the number! 10\n"
     ]
    },
    {
     "name": "stdout",
     "output_type": "stream",
     "text": [
      "my number is smaller\n"
     ]
    },
    {
     "name": "stdin",
     "output_type": "stream",
     "text": [
      "guess the number! 5\n"
     ]
    },
    {
     "name": "stdout",
     "output_type": "stream",
     "text": [
      "my number is smaller\n"
     ]
    },
    {
     "name": "stdin",
     "output_type": "stream",
     "text": [
      "guess the number! 2\n"
     ]
    },
    {
     "name": "stdout",
     "output_type": "stream",
     "text": [
      "my number is larger\n"
     ]
    },
    {
     "name": "stdin",
     "output_type": "stream",
     "text": [
      "guess the number! 4\n"
     ]
    },
    {
     "name": "stdout",
     "output_type": "stream",
     "text": [
      "Spot on! You only needed 4 attempts\n"
     ]
    }
   ],
   "source": [
    "#code02 my way\n",
    "import random\n",
    "\n",
    "number_picked = random.randint(1,20)\n",
    "guess = int(input('guess the number!'))\n",
    "attempts = 1\n",
    "\n",
    "while number_picked != guess:\n",
    "    if  guess < number_picked:\n",
    "        print('my number is larger')\n",
    "        \n",
    "    elif guess > number_picked:\n",
    "        print('my number is smaller')\n",
    "    \n",
    "    guess = int(input('guess the number!'))\n",
    "    attempts = attempts + 1\n",
    "        \n",
    "print('Spot on! You only needed %d attempts'%(attempts))\n"
   ]
  },
  {
   "cell_type": "markdown",
   "id": "9d19df2b-dd87-420c-b48b-6ba459a63cef",
   "metadata": {},
   "source": [
    "# code03 + code04"
   ]
  },
  {
   "cell_type": "code",
   "execution_count": 31,
   "id": "4cee8e8d-6ea5-4551-8244-53b6e59b4e65",
   "metadata": {
    "tags": []
   },
   "outputs": [
    {
     "name": "stdin",
     "output_type": "stream",
     "text": [
      "guess the number! 1\n"
     ]
    },
    {
     "name": "stdout",
     "output_type": "stream",
     "text": [
      "too low\n"
     ]
    },
    {
     "name": "stdin",
     "output_type": "stream",
     "text": [
      "guess the number! 2\n"
     ]
    },
    {
     "name": "stdout",
     "output_type": "stream",
     "text": [
      "too low\n"
     ]
    },
    {
     "name": "stdin",
     "output_type": "stream",
     "text": [
      "guess the number! 3\n"
     ]
    },
    {
     "name": "stdout",
     "output_type": "stream",
     "text": [
      "too low\n"
     ]
    },
    {
     "name": "stdin",
     "output_type": "stream",
     "text": [
      "guess the number! 5\n"
     ]
    },
    {
     "name": "stdout",
     "output_type": "stream",
     "text": [
      "too low\n"
     ]
    },
    {
     "name": "stdin",
     "output_type": "stream",
     "text": [
      "guess the number! 6\n"
     ]
    },
    {
     "name": "stdout",
     "output_type": "stream",
     "text": [
      "too low\n"
     ]
    },
    {
     "name": "stdin",
     "output_type": "stream",
     "text": [
      "guess the number! 7\n"
     ]
    },
    {
     "name": "stdout",
     "output_type": "stream",
     "text": [
      "too low\n"
     ]
    },
    {
     "name": "stdin",
     "output_type": "stream",
     "text": [
      "guess the number! 8\n"
     ]
    },
    {
     "name": "stdout",
     "output_type": "stream",
     "text": [
      "too low\n"
     ]
    },
    {
     "name": "stdin",
     "output_type": "stream",
     "text": [
      "guess the number! 9\n"
     ]
    },
    {
     "name": "stdout",
     "output_type": "stream",
     "text": [
      "too low\n"
     ]
    },
    {
     "name": "stdin",
     "output_type": "stream",
     "text": [
      "guess the number! 0\n"
     ]
    },
    {
     "name": "stdout",
     "output_type": "stream",
     "text": [
      "too low\n"
     ]
    },
    {
     "name": "stdin",
     "output_type": "stream",
     "text": [
      "guess the number! 10\n"
     ]
    },
    {
     "name": "stdout",
     "output_type": "stream",
     "text": [
      "too low\n",
      "Better luck next time!\n"
     ]
    }
   ],
   "source": [
    "import random\n",
    "\n",
    "number = random.randint(1,20)\n",
    "attempt = 0\n",
    "\n",
    "while attempt <=10:\n",
    "    guess = int(input('guess the number!'))\n",
    "    \n",
    "    attempt += 1\n",
    "    \n",
    "    if  guess < number:\n",
    "        print('too low')\n",
    "    if guess > number:\n",
    "        print('too high')\n",
    "    if guess == number or attempt ==10:\n",
    "        break\n",
    "        \n",
    "if guess == number:\n",
    "    print('Spot on! %d attempts'%(attempt))\n",
    "elif attempt == 10:\n",
    "    print('Better luck next time!')"
   ]
  },
  {
   "cell_type": "code",
   "execution_count": 48,
   "id": "c8634f43-fc9b-4b98-bdbe-ad34bdfb66b9",
   "metadata": {},
   "outputs": [
    {
     "name": "stdin",
     "output_type": "stream",
     "text": [
      "guess the number! 10\n"
     ]
    },
    {
     "name": "stdout",
     "output_type": "stream",
     "text": [
      "my number is larger\n"
     ]
    },
    {
     "name": "stdin",
     "output_type": "stream",
     "text": [
      "guess the number! 16\n"
     ]
    },
    {
     "name": "stdout",
     "output_type": "stream",
     "text": [
      "my number is larger\n"
     ]
    },
    {
     "name": "stdin",
     "output_type": "stream",
     "text": [
      "guess the number! 19\n"
     ]
    },
    {
     "name": "stdout",
     "output_type": "stream",
     "text": [
      "Better luck next time!\n"
     ]
    }
   ],
   "source": [
    "#code 03 & 04 my way\n",
    "import random\n",
    "\n",
    "number_picked = random.randint(1,20)\n",
    "guess = int(input('guess the number!'))\n",
    "attempts = 1\n",
    "MAX_ATTEMPTS = 2\n",
    "\n",
    "while number_picked != guess:\n",
    "    if attempts > MAX_ATTEMPTS:\n",
    "        break\n",
    "    elif  guess < number_picked:\n",
    "        print('my number is larger')\n",
    "        \n",
    "    elif guess > number_picked:\n",
    "        print('my number is smaller')\n",
    "    \n",
    "    guess = int(input('guess the number!'))\n",
    "    attempts = attempts + 1    \n",
    "\n",
    "if number_picked == guess:\n",
    "    print('Spot on! You only needed %d attempts'%(attempts))\n",
    "else:\n",
    "    print('Better luck next time!')\n"
   ]
  },
  {
   "cell_type": "markdown",
   "id": "e9a9197c-c6a3-4296-a663-1208182ec7c4",
   "metadata": {},
   "source": [
    "# code05"
   ]
  },
  {
   "cell_type": "code",
   "execution_count": 29,
   "id": "aed8f3ad-bbe7-43ba-95b6-f777806ce48d",
   "metadata": {
    "tags": []
   },
   "outputs": [
    {
     "ename": "KeyboardInterrupt",
     "evalue": "Interrupted by user",
     "output_type": "error",
     "traceback": [
      "\u001b[0;31m---------------------------------------------------------------------------\u001b[0m",
      "\u001b[0;31mKeyboardInterrupt\u001b[0m                         Traceback (most recent call last)",
      "Input \u001b[0;32mIn [29]\u001b[0m, in \u001b[0;36m<cell line: 6>\u001b[0;34m()\u001b[0m\n\u001b[1;32m      3\u001b[0m number \u001b[38;5;241m=\u001b[39m random\u001b[38;5;241m.\u001b[39mrandint(\u001b[38;5;241m1\u001b[39m,\u001b[38;5;241m20\u001b[39m)\n\u001b[1;32m      4\u001b[0m attempt \u001b[38;5;241m=\u001b[39m \u001b[38;5;241m0\u001b[39m\n\u001b[0;32m----> 6\u001b[0m guess \u001b[38;5;241m=\u001b[39m \u001b[38;5;28mint\u001b[39m(\u001b[38;5;28;43minput\u001b[39;49m\u001b[43m(\u001b[49m\u001b[38;5;124;43m'\u001b[39;49m\u001b[38;5;124;43mguess the number!\u001b[39;49m\u001b[38;5;124;43m'\u001b[39;49m\u001b[43m)\u001b[49m)\n\u001b[1;32m      9\u001b[0m \u001b[38;5;28;01mif\u001b[39;00m  guess \u001b[38;5;241m<\u001b[39m number:\n\u001b[1;32m     10\u001b[0m     \u001b[38;5;28mprint\u001b[39m(\u001b[38;5;124m'\u001b[39m\u001b[38;5;124mtoo low\u001b[39m\u001b[38;5;124m'\u001b[39m)\n",
      "File \u001b[0;32m/usr/lib/python3.10/site-packages/ipykernel/kernelbase.py:1161\u001b[0m, in \u001b[0;36mKernel.raw_input\u001b[0;34m(self, prompt)\u001b[0m\n\u001b[1;32m   1157\u001b[0m \u001b[38;5;28;01mif\u001b[39;00m \u001b[38;5;129;01mnot\u001b[39;00m \u001b[38;5;28mself\u001b[39m\u001b[38;5;241m.\u001b[39m_allow_stdin:\n\u001b[1;32m   1158\u001b[0m     \u001b[38;5;28;01mraise\u001b[39;00m StdinNotImplementedError(\n\u001b[1;32m   1159\u001b[0m         \u001b[38;5;124m\"\u001b[39m\u001b[38;5;124mraw_input was called, but this frontend does not support input requests.\u001b[39m\u001b[38;5;124m\"\u001b[39m\n\u001b[1;32m   1160\u001b[0m     )\n\u001b[0;32m-> 1161\u001b[0m \u001b[38;5;28;01mreturn\u001b[39;00m \u001b[38;5;28;43mself\u001b[39;49m\u001b[38;5;241;43m.\u001b[39;49m\u001b[43m_input_request\u001b[49m\u001b[43m(\u001b[49m\n\u001b[1;32m   1162\u001b[0m \u001b[43m    \u001b[49m\u001b[38;5;28;43mstr\u001b[39;49m\u001b[43m(\u001b[49m\u001b[43mprompt\u001b[49m\u001b[43m)\u001b[49m\u001b[43m,\u001b[49m\n\u001b[1;32m   1163\u001b[0m \u001b[43m    \u001b[49m\u001b[38;5;28;43mself\u001b[39;49m\u001b[38;5;241;43m.\u001b[39;49m\u001b[43m_parent_ident\u001b[49m\u001b[43m[\u001b[49m\u001b[38;5;124;43m\"\u001b[39;49m\u001b[38;5;124;43mshell\u001b[39;49m\u001b[38;5;124;43m\"\u001b[39;49m\u001b[43m]\u001b[49m\u001b[43m,\u001b[49m\n\u001b[1;32m   1164\u001b[0m \u001b[43m    \u001b[49m\u001b[38;5;28;43mself\u001b[39;49m\u001b[38;5;241;43m.\u001b[39;49m\u001b[43mget_parent\u001b[49m\u001b[43m(\u001b[49m\u001b[38;5;124;43m\"\u001b[39;49m\u001b[38;5;124;43mshell\u001b[39;49m\u001b[38;5;124;43m\"\u001b[39;49m\u001b[43m)\u001b[49m\u001b[43m,\u001b[49m\n\u001b[1;32m   1165\u001b[0m \u001b[43m    \u001b[49m\u001b[43mpassword\u001b[49m\u001b[38;5;241;43m=\u001b[39;49m\u001b[38;5;28;43;01mFalse\u001b[39;49;00m\u001b[43m,\u001b[49m\n\u001b[1;32m   1166\u001b[0m \u001b[43m\u001b[49m\u001b[43m)\u001b[49m\n",
      "File \u001b[0;32m/usr/lib/python3.10/site-packages/ipykernel/kernelbase.py:1205\u001b[0m, in \u001b[0;36mKernel._input_request\u001b[0;34m(self, prompt, ident, parent, password)\u001b[0m\n\u001b[1;32m   1202\u001b[0m             \u001b[38;5;28;01mbreak\u001b[39;00m\n\u001b[1;32m   1203\u001b[0m \u001b[38;5;28;01mexcept\u001b[39;00m \u001b[38;5;167;01mKeyboardInterrupt\u001b[39;00m:\n\u001b[1;32m   1204\u001b[0m     \u001b[38;5;66;03m# re-raise KeyboardInterrupt, to truncate traceback\u001b[39;00m\n\u001b[0;32m-> 1205\u001b[0m     \u001b[38;5;28;01mraise\u001b[39;00m \u001b[38;5;167;01mKeyboardInterrupt\u001b[39;00m(\u001b[38;5;124m\"\u001b[39m\u001b[38;5;124mInterrupted by user\u001b[39m\u001b[38;5;124m\"\u001b[39m) \u001b[38;5;28;01mfrom\u001b[39;00m \u001b[38;5;28mNone\u001b[39m\n\u001b[1;32m   1206\u001b[0m \u001b[38;5;28;01mexcept\u001b[39;00m \u001b[38;5;167;01mException\u001b[39;00m:\n\u001b[1;32m   1207\u001b[0m     \u001b[38;5;28mself\u001b[39m\u001b[38;5;241m.\u001b[39mlog\u001b[38;5;241m.\u001b[39mwarning(\u001b[38;5;124m\"\u001b[39m\u001b[38;5;124mInvalid Message:\u001b[39m\u001b[38;5;124m\"\u001b[39m, exc_info\u001b[38;5;241m=\u001b[39m\u001b[38;5;28;01mTrue\u001b[39;00m)\n",
      "\u001b[0;31mKeyboardInterrupt\u001b[0m: Interrupted by user"
     ]
    }
   ],
   "source": [
    "import random\n",
    "\n",
    "number = random.randint(1,20)\n",
    "attempt = 0\n",
    "\n",
    "guess = int(input('guess the number!'))\n",
    "    \n",
    "    \n",
    "if  guess < number:\n",
    "    print('too low')\n",
    "if guess > number:\n",
    "    print('too high')\n",
    "else:\n",
    "    attempt += 1\n",
    "    \n",
    "        \n",
    "if guess == number:\n",
    "    print('Spot on! %d attempts'%(attempt))\n",
    "elif attempt == 10:\n",
    "    print('Better luck next time!')"
   ]
  },
  {
   "cell_type": "code",
   "execution_count": 49,
   "id": "c3b23c2c-5ef2-4ffb-9495-404261933a60",
   "metadata": {},
   "outputs": [
    {
     "name": "stdin",
     "output_type": "stream",
     "text": [
      "guess the number! 10\n"
     ]
    },
    {
     "name": "stdout",
     "output_type": "stream",
     "text": [
      "my number is larger\n"
     ]
    },
    {
     "name": "stdin",
     "output_type": "stream",
     "text": [
      "guess the number! 16\n"
     ]
    },
    {
     "name": "stdout",
     "output_type": "stream",
     "text": [
      "my number is larger\n"
     ]
    },
    {
     "name": "stdin",
     "output_type": "stream",
     "text": [
      "guess the number! 19\n"
     ]
    },
    {
     "name": "stdout",
     "output_type": "stream",
     "text": [
      "Better luck next time!\n"
     ]
    }
   ],
   "source": [
    "#code 05 my way\n",
    "import random\n",
    "\n",
    "number_picked = random.randint(1,20)\n",
    "guess = int(input('guess the number!'))\n",
    "attempts = 1\n",
    "MAX_ATTEMPTS = 2\n",
    "\n",
    "while number_picked != guess and attempts <= MAX_ATTEMPTS:\n",
    "    if  guess < number_picked:\n",
    "        print('my number is larger')\n",
    "        \n",
    "    elif guess > number_picked:\n",
    "        print('my number is smaller')\n",
    "    \n",
    "    guess = int(input('guess the number!'))\n",
    "    attempts = attempts + 1    \n",
    "\n",
    "if number_picked == guess:\n",
    "    print('Spot on! You only needed %d attempts'%(attempts))\n",
    "else:\n",
    "    print('Better luck next time!')\n"
   ]
  },
  {
   "cell_type": "markdown",
   "id": "a988efeb-d04c-43db-a9c9-6bc5c1fc68bc",
   "metadata": {},
   "source": [
    "# code06"
   ]
  },
  {
   "cell_type": "code",
   "execution_count": null,
   "id": "5fd80463-9543-4b2f-af35-04bad40e5720",
   "metadata": {},
   "outputs": [
    {
     "name": "stdin",
     "output_type": "stream",
     "text": [
      "guess the number! 7\n"
     ]
    },
    {
     "name": "stdout",
     "output_type": "stream",
     "text": [
      "too high 9 remaining\n"
     ]
    },
    {
     "name": "stdin",
     "output_type": "stream",
     "text": [
      "guess the number! 9\n"
     ]
    },
    {
     "name": "stdout",
     "output_type": "stream",
     "text": [
      "too high 8 remaining\n"
     ]
    },
    {
     "name": "stdin",
     "output_type": "stream",
     "text": [
      "guess the number! 2\n"
     ]
    },
    {
     "name": "stdout",
     "output_type": "stream",
     "text": [
      "too low 7 attempts remaining\n"
     ]
    },
    {
     "name": "stdin",
     "output_type": "stream",
     "text": [
      "guess the number! 5\n"
     ]
    },
    {
     "name": "stdout",
     "output_type": "stream",
     "text": [
      "too high 6 remaining\n"
     ]
    },
    {
     "name": "stdin",
     "output_type": "stream",
     "text": [
      "guess the number! 4\n"
     ]
    },
    {
     "name": "stdout",
     "output_type": "stream",
     "text": [
      "Spot on! 5 attempts\n"
     ]
    }
   ],
   "source": [
    "import random\n",
    "\n",
    "number = random.randint(1,20)\n",
    "attempt = 0\n",
    "\n",
    "while attempt <=10:\n",
    "    guess = int(input('guess the number!'))\n",
    "    \n",
    "    attempt += 1\n",
    "    \n",
    "    if  guess < number:\n",
    "        print('too low %d attempts remaining'%(10-attempt))\n",
    "    if guess > number:\n",
    "        print('too high %d remaining'%(10-attempt))\n",
    "    if guess == number or attempt ==10:\n",
    "        break\n",
    "        \n",
    "if guess == number:\n",
    "    print('Spot on! %d attempts'%(attempt))\n",
    "elif attempt == 10:\n",
    "    print('Better luck next time!')"
   ]
  },
  {
   "cell_type": "code",
   "execution_count": null,
   "id": "8e38f1cd-a21a-4a02-8e0b-83a13c671109",
   "metadata": {},
   "outputs": [
    {
     "name": "stdin",
     "output_type": "stream",
     "text": [
      "guess the number! You start with 3 attempts 10\n"
     ]
    },
    {
     "name": "stdout",
     "output_type": "stream",
     "text": [
      "my number is smaller\n"
     ]
    },
    {
     "name": "stdin",
     "output_type": "stream",
     "text": [
      "Please enter the guess, you have 2 attempts remaining 6\n"
     ]
    },
    {
     "name": "stdout",
     "output_type": "stream",
     "text": [
      "my number is larger\n"
     ]
    },
    {
     "name": "stdin",
     "output_type": "stream",
     "text": [
      "Please enter the guess, you have 1 attempts remaining 1\n"
     ]
    },
    {
     "name": "stdout",
     "output_type": "stream",
     "text": [
      "Better luck next time!\n"
     ]
    }
   ],
   "source": [
    "#code 06 my way\n",
    "\n",
    "import random\n",
    "\n",
    "number_picked = random.randint(1,20)\n",
    "attempts = 1\n",
    "MAX_ATTEMPTS = 3\n",
    "guess = int(input('guess the number! You start with %d attempts'%(MAX_ATTEMPTS)))\n",
    "\n",
    "while number_picked != guess and attempts < MAX_ATTEMPTS:\n",
    "    if  guess < number_picked:\n",
    "        print('my number is larger')\n",
    "        \n",
    "    elif guess > number_picked:\n",
    "        print('my number is smaller')\n",
    "    \n",
    "    attempts_remaining = MAX_ATTEMPTS - attempts \n",
    "    attempts = attempts + 1\n",
    "    guess = int(input('Please enter the guess, you have %d attempts remaining'%(attempts_remaining)))\n",
    "\n",
    "if number_picked == guess:\n",
    "    print('Spot on! You only needed %d attempts'%(attempts))\n",
    "else:\n",
    "    print('Better luck next time!')\n",
    "\n",
    "    \n"
   ]
  },
  {
   "cell_type": "markdown",
   "id": "121fc38d-247c-4e72-8708-d26c523dd763",
   "metadata": {},
   "source": [
    "# code07"
   ]
  },
  {
   "cell_type": "code",
   "execution_count": 1,
   "id": "063c74a7-f788-4f52-b85f-cb447fbb4835",
   "metadata": {
    "tags": []
   },
   "outputs": [
    {
     "name": "stdin",
     "output_type": "stream",
     "text": [
      "guess the number! 5\n"
     ]
    },
    {
     "name": "stdout",
     "output_type": "stream",
     "text": [
      "too low 9 attempts remaining\n"
     ]
    },
    {
     "name": "stdin",
     "output_type": "stream",
     "text": [
      "guess the number! 4\n"
     ]
    },
    {
     "name": "stdout",
     "output_type": "stream",
     "text": [
      "too low 8 attempts remaining\n"
     ]
    },
    {
     "name": "stdin",
     "output_type": "stream",
     "text": [
      "guess the number! 10\n"
     ]
    },
    {
     "name": "stdout",
     "output_type": "stream",
     "text": [
      "too low 7 attempts remaining\n"
     ]
    },
    {
     "name": "stdin",
     "output_type": "stream",
     "text": [
      "guess the number! 9\n"
     ]
    },
    {
     "name": "stdout",
     "output_type": "stream",
     "text": [
      "too low 6 attempts remaining\n"
     ]
    },
    {
     "name": "stdin",
     "output_type": "stream",
     "text": [
      "guess the number! 15\n"
     ]
    },
    {
     "name": "stdout",
     "output_type": "stream",
     "text": [
      "too low 5 attempts remaining\n"
     ]
    },
    {
     "name": "stdin",
     "output_type": "stream",
     "text": [
      "guess the number! 18\n"
     ]
    },
    {
     "name": "stdout",
     "output_type": "stream",
     "text": [
      "Spot on! 6 attempts\n"
     ]
    },
    {
     "name": "stdin",
     "output_type": "stream",
     "text": [
      "want to play again? (Y/N) y\n",
      "guess the number! 18\n"
     ]
    },
    {
     "name": "stdout",
     "output_type": "stream",
     "text": [
      "Spot on! 1 attempts\n"
     ]
    },
    {
     "name": "stdin",
     "output_type": "stream",
     "text": [
      "want to play again? (Y/N) y\n",
      "guess the number! 18\n"
     ]
    },
    {
     "name": "stdout",
     "output_type": "stream",
     "text": [
      "Spot on! 1 attempts\n"
     ]
    },
    {
     "name": "stdin",
     "output_type": "stream",
     "text": [
      "want to play again? (Y/N) y\n",
      "guess the number! 18\n"
     ]
    },
    {
     "name": "stdout",
     "output_type": "stream",
     "text": [
      "Spot on! 1 attempts\n"
     ]
    },
    {
     "name": "stdin",
     "output_type": "stream",
     "text": [
      "want to play again? (Y/N) n\n"
     ]
    },
    {
     "name": "stdout",
     "output_type": "stream",
     "text": [
      "Thank you for playing the game!\n"
     ]
    }
   ],
   "source": [
    "import random\n",
    "\n",
    "number = random.randint(1,20)\n",
    "attempt = 0\n",
    "want_to_play = True\n",
    "\n",
    "while want_to_play == True:\n",
    "\n",
    "    while attempt <10:\n",
    "        guess = int(input('guess the number!'))\n",
    "    \n",
    "        attempt += 1\n",
    "    \n",
    "        if  guess < number:\n",
    "            print('too low %d attempts remaining'%(10-attempt))\n",
    "        if guess > number:\n",
    "            print('too high %d remaining'%(10-attempt))\n",
    "        if guess == number or attempt >9:\n",
    "            break\n",
    "        \n",
    "    if guess == number:\n",
    "        print('Spot on! %d attempts'%(attempt))\n",
    "    elif attempt > 9:\n",
    "        print('Better luck next time!')\n",
    "    attempt = 0\n",
    "    \n",
    "    goon = input('want to play again? (Y/N)')\n",
    "    if goon == str('y') or goon == str('Y'):\n",
    "        want_to_play == True\n",
    "    elif goon == str('n') or goon == str('N'):\n",
    "        break\n",
    "    else:\n",
    "        goon = input('want to play again? (Y/N)')\n",
    "\n",
    "print('Thank you for playing the game!')"
   ]
  },
  {
   "cell_type": "code",
   "execution_count": 142,
   "id": "24d91d9d-a3ac-48ad-b5ea-3e7cc5ddc092",
   "metadata": {},
   "outputs": [
    {
     "name": "stdin",
     "output_type": "stream",
     "text": [
      "guess the number! You start with 3 attempts 10\n"
     ]
    },
    {
     "name": "stdout",
     "output_type": "stream",
     "text": [
      "Spot on! You only needed 1 attempts\n"
     ]
    },
    {
     "name": "stdin",
     "output_type": "stream",
     "text": [
      "Want to play again? Y/N Y\n",
      "guess the number! You start with 3 attempts 10\n"
     ]
    },
    {
     "name": "stdout",
     "output_type": "stream",
     "text": [
      "Spot on! You only needed 1 attempts\n"
     ]
    },
    {
     "name": "stdin",
     "output_type": "stream",
     "text": [
      "Want to play again? Y/N Y\n",
      "guess the number! You start with 3 attempts 19\n"
     ]
    },
    {
     "name": "stdout",
     "output_type": "stream",
     "text": [
      "my number is smaller\n"
     ]
    },
    {
     "name": "stdin",
     "output_type": "stream",
     "text": [
      "Please enter the guess, you have 2 attempts remaining 12\n"
     ]
    },
    {
     "name": "stdout",
     "output_type": "stream",
     "text": [
      "my number is smaller\n"
     ]
    },
    {
     "name": "stdin",
     "output_type": "stream",
     "text": [
      "Please enter the guess, you have 1 attempts remaining 4\n"
     ]
    },
    {
     "name": "stdout",
     "output_type": "stream",
     "text": [
      "Better luck next time!\n"
     ]
    },
    {
     "name": "stdin",
     "output_type": "stream",
     "text": [
      "Want to play again? Y/N Y\n",
      "guess the number! You start with 3 attempts 17\n"
     ]
    },
    {
     "name": "stdout",
     "output_type": "stream",
     "text": [
      "my number is smaller\n"
     ]
    },
    {
     "name": "stdin",
     "output_type": "stream",
     "text": [
      "Please enter the guess, you have 2 attempts remaining 4\n"
     ]
    },
    {
     "name": "stdout",
     "output_type": "stream",
     "text": [
      "my number is larger\n"
     ]
    },
    {
     "name": "stdin",
     "output_type": "stream",
     "text": [
      "Please enter the guess, you have 1 attempts remaining 7\n"
     ]
    },
    {
     "name": "stdout",
     "output_type": "stream",
     "text": [
      "Better luck next time!\n"
     ]
    },
    {
     "name": "stdin",
     "output_type": "stream",
     "text": [
      "Want to play again? Y/N Y\n",
      "guess the number! You start with 3 attempts 10\n"
     ]
    },
    {
     "name": "stdout",
     "output_type": "stream",
     "text": [
      "Spot on! You only needed 1 attempts\n"
     ]
    },
    {
     "name": "stdin",
     "output_type": "stream",
     "text": [
      "Want to play again? Y/N N\n"
     ]
    },
    {
     "name": "stdout",
     "output_type": "stream",
     "text": [
      "Thank you for playing the game!\n"
     ]
    }
   ],
   "source": [
    "#code 07 my way\n",
    "\n",
    "import random\n",
    "MAX_ATTEMPTS = 3\n",
    "number_picked = random.randint(1,20)\n",
    "attempts = 1\n",
    "want_to_play = True\n",
    "\n",
    "while want_to_play == True:\n",
    "        guess = int(input('guess the number! You start with %d attempts'%(MAX_ATTEMPTS)))\n",
    "\n",
    "        while number_picked != guess and attempts < MAX_ATTEMPTS:\n",
    "            if  guess < number_picked:\n",
    "                print('my number is larger')\n",
    "\n",
    "            elif guess > number_picked:\n",
    "                print('my number is smaller')\n",
    "\n",
    "            attempts_remaining = MAX_ATTEMPTS - attempts \n",
    "            guess = int(input('Please enter the guess, you have %d attempts remaining'%(attempts_remaining)))\n",
    "            attempts = attempts + 1\n",
    "\n",
    "        if number_picked == guess:\n",
    "            print('Spot on! You only needed %d attempts'%(attempts))\n",
    "        else:\n",
    "            print('Better luck next time!')\n",
    "    \n",
    "        again = str(input('Want to play again? Y/N'))\n",
    "        if again == str('y') or again == str('Y'):\n",
    "            want_to_play = True\n",
    "            attempts = 1\n",
    "            \n",
    "        elif again == str('n') or again == str('N'):\n",
    "            want_to_play = False\n",
    "\n",
    "print('Thank you for playing the game!')"
   ]
  },
  {
   "cell_type": "markdown",
   "id": "1a119b7d-604c-4e64-960e-07606148dbb8",
   "metadata": {},
   "source": [
    "# code08"
   ]
  },
  {
   "cell_type": "code",
   "execution_count": 146,
   "id": "67f5b5cb-a455-4dc6-bba4-c186b126ded5",
   "metadata": {},
   "outputs": [
    {
     "name": "stdin",
     "output_type": "stream",
     "text": [
      "guess the number! 10\n"
     ]
    },
    {
     "name": "stdout",
     "output_type": "stream",
     "text": [
      "too low 9 attempts remaining\n"
     ]
    },
    {
     "name": "stdin",
     "output_type": "stream",
     "text": [
      "guess the number! 13\n"
     ]
    },
    {
     "name": "stdout",
     "output_type": "stream",
     "text": [
      "too low 8 attempts remaining\n"
     ]
    },
    {
     "name": "stdin",
     "output_type": "stream",
     "text": [
      "guess the number! 16\n"
     ]
    },
    {
     "name": "stdout",
     "output_type": "stream",
     "text": [
      "too high 7 remaining\n"
     ]
    },
    {
     "name": "stdin",
     "output_type": "stream",
     "text": [
      "guess the number! 15\n"
     ]
    },
    {
     "name": "stdout",
     "output_type": "stream",
     "text": [
      "Spot on! 4 attempts. Best so far 4\n"
     ]
    },
    {
     "ename": "KeyboardInterrupt",
     "evalue": "Interrupted by user",
     "output_type": "error",
     "traceback": [
      "\u001b[0;31m---------------------------------------------------------------------------\u001b[0m",
      "\u001b[0;31mKeyboardInterrupt\u001b[0m                         Traceback (most recent call last)",
      "Input \u001b[0;32mIn [146]\u001b[0m, in \u001b[0;36m<cell line: 8>\u001b[0;34m()\u001b[0m\n\u001b[1;32m     29\u001b[0m     \u001b[38;5;28mprint\u001b[39m(\u001b[38;5;124m'\u001b[39m\u001b[38;5;124mBetter luck next time!\u001b[39m\u001b[38;5;124m'\u001b[39m)\n\u001b[1;32m     30\u001b[0m attempt \u001b[38;5;241m=\u001b[39m \u001b[38;5;241m0\u001b[39m\n\u001b[0;32m---> 32\u001b[0m goon \u001b[38;5;241m=\u001b[39m \u001b[38;5;28;43minput\u001b[39;49m\u001b[43m(\u001b[49m\u001b[38;5;124;43m'\u001b[39;49m\u001b[38;5;124;43mwant to play again? (Y/N)\u001b[39;49m\u001b[38;5;124;43m'\u001b[39;49m\u001b[43m)\u001b[49m\n\u001b[1;32m     33\u001b[0m \u001b[38;5;28;01mif\u001b[39;00m goon \u001b[38;5;241m==\u001b[39m \u001b[38;5;28mstr\u001b[39m(\u001b[38;5;124m'\u001b[39m\u001b[38;5;124my\u001b[39m\u001b[38;5;124m'\u001b[39m) \u001b[38;5;129;01mor\u001b[39;00m goon \u001b[38;5;241m==\u001b[39m \u001b[38;5;28mstr\u001b[39m(\u001b[38;5;124m'\u001b[39m\u001b[38;5;124mY\u001b[39m\u001b[38;5;124m'\u001b[39m):\n\u001b[1;32m     34\u001b[0m     want_to_play \u001b[38;5;241m==\u001b[39m \u001b[38;5;28;01mTrue\u001b[39;00m\n",
      "File \u001b[0;32m/usr/lib/python3.10/site-packages/ipykernel/kernelbase.py:1161\u001b[0m, in \u001b[0;36mKernel.raw_input\u001b[0;34m(self, prompt)\u001b[0m\n\u001b[1;32m   1157\u001b[0m \u001b[38;5;28;01mif\u001b[39;00m \u001b[38;5;129;01mnot\u001b[39;00m \u001b[38;5;28mself\u001b[39m\u001b[38;5;241m.\u001b[39m_allow_stdin:\n\u001b[1;32m   1158\u001b[0m     \u001b[38;5;28;01mraise\u001b[39;00m StdinNotImplementedError(\n\u001b[1;32m   1159\u001b[0m         \u001b[38;5;124m\"\u001b[39m\u001b[38;5;124mraw_input was called, but this frontend does not support input requests.\u001b[39m\u001b[38;5;124m\"\u001b[39m\n\u001b[1;32m   1160\u001b[0m     )\n\u001b[0;32m-> 1161\u001b[0m \u001b[38;5;28;01mreturn\u001b[39;00m \u001b[38;5;28;43mself\u001b[39;49m\u001b[38;5;241;43m.\u001b[39;49m\u001b[43m_input_request\u001b[49m\u001b[43m(\u001b[49m\n\u001b[1;32m   1162\u001b[0m \u001b[43m    \u001b[49m\u001b[38;5;28;43mstr\u001b[39;49m\u001b[43m(\u001b[49m\u001b[43mprompt\u001b[49m\u001b[43m)\u001b[49m\u001b[43m,\u001b[49m\n\u001b[1;32m   1163\u001b[0m \u001b[43m    \u001b[49m\u001b[38;5;28;43mself\u001b[39;49m\u001b[38;5;241;43m.\u001b[39;49m\u001b[43m_parent_ident\u001b[49m\u001b[43m[\u001b[49m\u001b[38;5;124;43m\"\u001b[39;49m\u001b[38;5;124;43mshell\u001b[39;49m\u001b[38;5;124;43m\"\u001b[39;49m\u001b[43m]\u001b[49m\u001b[43m,\u001b[49m\n\u001b[1;32m   1164\u001b[0m \u001b[43m    \u001b[49m\u001b[38;5;28;43mself\u001b[39;49m\u001b[38;5;241;43m.\u001b[39;49m\u001b[43mget_parent\u001b[49m\u001b[43m(\u001b[49m\u001b[38;5;124;43m\"\u001b[39;49m\u001b[38;5;124;43mshell\u001b[39;49m\u001b[38;5;124;43m\"\u001b[39;49m\u001b[43m)\u001b[49m\u001b[43m,\u001b[49m\n\u001b[1;32m   1165\u001b[0m \u001b[43m    \u001b[49m\u001b[43mpassword\u001b[49m\u001b[38;5;241;43m=\u001b[39;49m\u001b[38;5;28;43;01mFalse\u001b[39;49;00m\u001b[43m,\u001b[49m\n\u001b[1;32m   1166\u001b[0m \u001b[43m\u001b[49m\u001b[43m)\u001b[49m\n",
      "File \u001b[0;32m/usr/lib/python3.10/site-packages/ipykernel/kernelbase.py:1205\u001b[0m, in \u001b[0;36mKernel._input_request\u001b[0;34m(self, prompt, ident, parent, password)\u001b[0m\n\u001b[1;32m   1202\u001b[0m             \u001b[38;5;28;01mbreak\u001b[39;00m\n\u001b[1;32m   1203\u001b[0m \u001b[38;5;28;01mexcept\u001b[39;00m \u001b[38;5;167;01mKeyboardInterrupt\u001b[39;00m:\n\u001b[1;32m   1204\u001b[0m     \u001b[38;5;66;03m# re-raise KeyboardInterrupt, to truncate traceback\u001b[39;00m\n\u001b[0;32m-> 1205\u001b[0m     \u001b[38;5;28;01mraise\u001b[39;00m \u001b[38;5;167;01mKeyboardInterrupt\u001b[39;00m(\u001b[38;5;124m\"\u001b[39m\u001b[38;5;124mInterrupted by user\u001b[39m\u001b[38;5;124m\"\u001b[39m) \u001b[38;5;28;01mfrom\u001b[39;00m \u001b[38;5;28mNone\u001b[39m\n\u001b[1;32m   1206\u001b[0m \u001b[38;5;28;01mexcept\u001b[39;00m \u001b[38;5;167;01mException\u001b[39;00m:\n\u001b[1;32m   1207\u001b[0m     \u001b[38;5;28mself\u001b[39m\u001b[38;5;241m.\u001b[39mlog\u001b[38;5;241m.\u001b[39mwarning(\u001b[38;5;124m\"\u001b[39m\u001b[38;5;124mInvalid Message:\u001b[39m\u001b[38;5;124m\"\u001b[39m, exc_info\u001b[38;5;241m=\u001b[39m\u001b[38;5;28;01mTrue\u001b[39;00m)\n",
      "\u001b[0;31mKeyboardInterrupt\u001b[0m: Interrupted by user"
     ]
    }
   ],
   "source": [
    "import random\n",
    "\n",
    "number = random.randint(1,20)\n",
    "attempt = 0\n",
    "want_to_play = True\n",
    "fewest_attempts = 10\n",
    "\n",
    "while want_to_play:\n",
    "\n",
    "    while attempt <10:\n",
    "        guess = int(input('guess the number!'))\n",
    "    \n",
    "        attempt += 1\n",
    "    \n",
    "        if  guess < number:\n",
    "            print('too low %d attempts remaining'%(10-attempt))\n",
    "        if guess > number:\n",
    "            print('too high %d remaining'%(10-attempt))\n",
    "        if guess == number or attempt >9:\n",
    "            break\n",
    "            \n",
    "    MAX_ATTEMPTS = attempt\n",
    "    if MAX_ATTEMPTS < fewest_attempts:\n",
    "        fewest_attempts = MAX_ATTEMPTS\n",
    "        \n",
    "    if guess == number:\n",
    "        print('Spot on! %d attempts. Best so far %d'%(attempt, fewest_attempts))\n",
    "    elif attempt > 9:\n",
    "        print('Better luck next time!')\n",
    "    attempt = 0\n",
    "    \n",
    "    goon = input('want to play again? (Y/N)')\n",
    "    if goon == str('y') or goon == str('Y'):\n",
    "        want_to_play == True\n",
    "    elif goon == str('n') or goon == str('N'):\n",
    "        break\n",
    "    else:\n",
    "        goon = input('want to play again? (Y/N)')\n",
    "\n",
    "print('Thank you for playing the game!')"
   ]
  },
  {
   "cell_type": "code",
   "execution_count": 148,
   "id": "13ba84ba-459b-45f9-9dd4-8aff089c879b",
   "metadata": {},
   "outputs": [
    {
     "name": "stdin",
     "output_type": "stream",
     "text": [
      "guess the number! You start with 3 attempts 10\n"
     ]
    },
    {
     "name": "stdout",
     "output_type": "stream",
     "text": [
      "my number is smaller\n"
     ]
    },
    {
     "name": "stdin",
     "output_type": "stream",
     "text": [
      "Please enter the guess, you have 2 attempts remaining 5\n"
     ]
    },
    {
     "name": "stdout",
     "output_type": "stream",
     "text": [
      "Spot on! You only needed 2 attempts\n"
     ]
    },
    {
     "name": "stdin",
     "output_type": "stream",
     "text": [
      "Want to play again? Y/N N\n"
     ]
    },
    {
     "name": "stdout",
     "output_type": "stream",
     "text": [
      "Thank you for playing the game! Best so far 2 attempt(s)\n"
     ]
    }
   ],
   "source": [
    "#code 08 my way\n",
    "\n",
    "import random\n",
    "\n",
    "MAX_ATTEMPTS = 3\n",
    "fewest_attempts = MAX_ATTEMPTS\n",
    "\n",
    "number_picked = random.randint(1,20)\n",
    "attempts = 1\n",
    "want_to_play = True\n",
    "\n",
    "while want_to_play:\n",
    "        guess = int(input('guess the number! You start with %d attempts'%(MAX_ATTEMPTS)))\n",
    "\n",
    "        while number_picked != guess and attempts < MAX_ATTEMPTS:\n",
    "            if  guess < number_picked:\n",
    "                print('my number is larger')\n",
    "\n",
    "            elif guess > number_picked:\n",
    "                print('my number is smaller')\n",
    "\n",
    "            attempts_remaining = MAX_ATTEMPTS - attempts \n",
    "            guess = int(input('Please enter the guess, you have %d attempts remaining'%(attempts_remaining)))\n",
    "            attempts = attempts + 1\n",
    "        \n",
    "        if number_picked == guess:\n",
    "            print('Spot on! You only needed %d attempts'%(attempts))\n",
    "            MAX_ATTEMPTS = attempts\n",
    "            if MAX_ATTEMPTS < fewest_attempts:\n",
    "                fewest_attempts = MAX_ATTEMPTS\n",
    "        else:\n",
    "            print('Better luck next time!')\n",
    "    \n",
    "        again = str(input('Want to play again? Y/N'))\n",
    "        if again == str('y') or again == str('Y'):\n",
    "            want_to_play = True\n",
    "            attempts = 1\n",
    "            \n",
    "        elif again == str('n') or again == str('N'):\n",
    "            want_to_play = False\n",
    "\n",
    "print('Thank you for playing the game! Best so far %d attempt(s)'%(fewest_attempts))"
   ]
  },
  {
   "cell_type": "markdown",
   "id": "022361f3-42ad-4f3c-9c22-076a28ecf0b8",
   "metadata": {},
   "source": [
    "# code09"
   ]
  },
  {
   "cell_type": "code",
   "execution_count": 14,
   "id": "9686208e-67d8-42a4-a481-9864c35e5394",
   "metadata": {},
   "outputs": [
    {
     "name": "stdin",
     "output_type": "stream",
     "text": [
      "guess the number! 10\n"
     ]
    },
    {
     "name": "stdout",
     "output_type": "stream",
     "text": [
      "Spot on! 1 attempts. Best so far 1\n"
     ]
    },
    {
     "name": "stdin",
     "output_type": "stream",
     "text": [
      "want to play again? (Y/N) n\n"
     ]
    },
    {
     "name": "stdout",
     "output_type": "stream",
     "text": [
      "Thank you for playing the game 1 times! Your best try was 1 attempts\n"
     ]
    }
   ],
   "source": [
    "import random\n",
    "\n",
    "# create some variables\n",
    "number = random.randint(1,20)\n",
    "attempt = 0\n",
    "want_to_play = True\n",
    "fewest_attempts = 10\n",
    "games_played = 0\n",
    "\n",
    "# start the game\n",
    "while want_to_play:\n",
    "    \n",
    "    #track how many games were played\n",
    "    games_played += 1\n",
    "\n",
    "    # allow only 10 attempts\n",
    "    while attempt <10:\n",
    "        #start prompt\n",
    "        guess = int(input('guess the number!')) \n",
    "    \n",
    "        #counting attempts\n",
    "        attempt += 1\n",
    "    \n",
    "        # higher, lower, on point!\n",
    "        if  guess < number:\n",
    "            print('too low %d attempts remaining'%(10-attempt))\n",
    "        if guess > number:\n",
    "            print('too high %d remaining'%(10-attempt))\n",
    "        if guess == number or attempt >9:\n",
    "            break\n",
    "    \n",
    "    # count best attempt      \n",
    "    MAX_ATTEMPTS = attempt\n",
    "    if MAX_ATTEMPTS < fewest_attempts:\n",
    "        fewest_attempts = MAX_ATTEMPTS\n",
    "        \n",
    "    # winning / losing prompt\n",
    "    if guess == number:\n",
    "        print('Spot on! %d attempts. Best so far %d'%(attempt, fewest_attempts))\n",
    "    elif attempt > 9:\n",
    "        print('Better luck next time!')\n",
    "    attempt = 0 # restart attempts after every game\n",
    "    \n",
    "    # want to play again prompt\n",
    "    goon = input('want to play again? (Y/N)')\n",
    "    if goon == str('y') or goon == str('Y'):\n",
    "        want_to_play == True\n",
    "    elif goon == str('n') or goon == str('N'):\n",
    "        break\n",
    "    else:\n",
    "        goon = input('want to play again? (Y/N)')\n",
    "\n",
    "# final  prompt\n",
    "print('Thank you for playing the game %d times! Your best try was %d attempts'%(games_played, fewest_attempts))"
   ]
  },
  {
   "cell_type": "code",
   "execution_count": 152,
   "id": "f8cfa9a3-7331-4549-81be-6219677bcf8d",
   "metadata": {},
   "outputs": [
    {
     "name": "stdin",
     "output_type": "stream",
     "text": [
      "guess the number! You start with 3 attempts 10\n"
     ]
    },
    {
     "name": "stdout",
     "output_type": "stream",
     "text": [
      "my number is larger\n"
     ]
    },
    {
     "name": "stdin",
     "output_type": "stream",
     "text": [
      "Please enter the guess, you have 2 attempts remaining 13\n"
     ]
    },
    {
     "name": "stdout",
     "output_type": "stream",
     "text": [
      "Spot on! You only needed 2 attempts\n"
     ]
    },
    {
     "name": "stdin",
     "output_type": "stream",
     "text": [
      "Want to play again? Y/N Y\n",
      "guess the number! You start with 2 attempts 10\n"
     ]
    },
    {
     "name": "stdout",
     "output_type": "stream",
     "text": [
      "my number is larger\n"
     ]
    },
    {
     "name": "stdin",
     "output_type": "stream",
     "text": [
      "Please enter the guess, you have 1 attempts remaining 2\n"
     ]
    },
    {
     "name": "stdout",
     "output_type": "stream",
     "text": [
      "Better luck next time!\n"
     ]
    },
    {
     "name": "stdin",
     "output_type": "stream",
     "text": [
      "Want to play again? Y/N N\n"
     ]
    },
    {
     "name": "stdout",
     "output_type": "stream",
     "text": [
      "Thank you for playing the game 2 times! Best so far 2 attempt(s)\n"
     ]
    }
   ],
   "source": [
    "#code 09 my way\n",
    "\n",
    "import random\n",
    "\n",
    "MAX_ATTEMPTS = 3\n",
    "fewest_attempts = MAX_ATTEMPTS\n",
    "\n",
    "rounds = 0\n",
    "\n",
    "number_picked = random.randint(1,20)\n",
    "attempts = 1\n",
    "want_to_play = True\n",
    "\n",
    "while want_to_play:\n",
    "        rounds = rounds + 1\n",
    "\n",
    "        guess = int(input('guess the number! You start with 3 attempts'))\n",
    "\n",
    "        while number_picked != guess and attempts < MAX_ATTEMPTS:\n",
    "            if  guess < number_picked:\n",
    "                print('my number is larger')\n",
    "\n",
    "            elif guess > number_picked:\n",
    "                print('my number is smaller')\n",
    "\n",
    "            attempts_remaining = MAX_ATTEMPTS - attempts \n",
    "            guess = int(input('Please enter the guess, you have %d attempts remaining'%(attempts_remaining)))\n",
    "            attempts = attempts + 1\n",
    "        \n",
    "        if number_picked == guess:\n",
    "            print('Spot on! You only needed %d attempts'%(attempts))\n",
    "            MAX_ATTEMPTS = attempts\n",
    "            if MAX_ATTEMPTS < fewest_attempts:\n",
    "                fewest_attempts = MAX_ATTEMPTS\n",
    "        else:\n",
    "            print('Better luck next time!')\n",
    "    \n",
    "        again = str(input('Want to play again? Y/N'))\n",
    "        if again == str('y') or again == str('Y'):\n",
    "            want_to_play = True\n",
    "            attempts = 1\n",
    "            \n",
    "        elif again == str('n') or again == str('N'):\n",
    "            want_to_play = False\n",
    "\n",
    "print('Thank you for playing the game %d times! Best so far %d attempt(s)'%(rounds,fewest_attempts))"
   ]
  },
  {
   "cell_type": "code",
   "execution_count": null,
   "id": "5d7bd4d8-f70b-45ec-8759-9d0a3f27d0c6",
   "metadata": {},
   "outputs": [],
   "source": []
  }
 ],
 "metadata": {
  "kernelspec": {
   "display_name": "Python 3 (ipykernel)",
   "language": "python",
   "name": "python3"
  },
  "language_info": {
   "codemirror_mode": {
    "name": "ipython",
    "version": 3
   },
   "file_extension": ".py",
   "mimetype": "text/x-python",
   "name": "python",
   "nbconvert_exporter": "python",
   "pygments_lexer": "ipython3",
   "version": "3.10.4"
  }
 },
 "nbformat": 4,
 "nbformat_minor": 5
}
