{
 "cells": [
  {
   "cell_type": "code",
   "execution_count": null,
   "id": "5e4b9d64-5c21-4d17-b35b-d3628c7895b3",
   "metadata": {},
   "outputs": [],
   "source": []
  },
  {
   "cell_type": "code",
   "execution_count": null,
   "id": "a528e6a4-92c7-4007-8529-cb39ceb8ddf5",
   "metadata": {},
   "outputs": [],
   "source": [
    "#2\n",
    "#my version\n",
    "\n",
    "import random\n",
    "\n",
    "number_picked = random.randint(1,20)\n",
    "guess = int(input('guess the number!'))\n",
    "\n",
    "while number_picked != guess:\n",
    "    if  guess < number_picked:\n",
    "        print('my number is larger')\n",
    "        \n",
    "    elif guess > number_picked:\n",
    "        print('my number is smaller')\n",
    "    \n",
    "    guess = int(input('guess the number!'))\n",
    "        \n",
    "print('Spot on!')\n",
    "        "
   ]
  }
 ],
 "metadata": {
  "kernelspec": {
   "display_name": "Python 3 (ipykernel)",
   "language": "python",
   "name": "python3"
  },
  "language_info": {
   "codemirror_mode": {
    "name": "ipython",
    "version": 3
   },
   "file_extension": ".py",
   "mimetype": "text/x-python",
   "name": "python",
   "nbconvert_exporter": "python",
   "pygments_lexer": "ipython3",
   "version": "3.10.4"
  }
 },
 "nbformat": 4,
 "nbformat_minor": 5
}
