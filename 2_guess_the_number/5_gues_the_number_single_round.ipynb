{
 "cells": [
  {
   "cell_type": "markdown",
   "id": "afc96815-1077-4816-bf38-d8240362c658",
   "metadata": {},
   "source": [
    "# code01"
   ]
  },
  {
   "cell_type": "markdown",
   "id": "482cc241-062c-4157-a8ad-356c8a4dcf41",
   "metadata": {},
   "source": [
    "Lets pick a number"
   ]
  },
  {
   "cell_type": "code",
   "execution_count": 4,
   "id": "b78c3b22-2fe3-45b4-bb0a-73a36304738f",
   "metadata": {},
   "outputs": [
    {
     "name": "stdout",
     "output_type": "stream",
     "text": [
      "The number I’ve picked is 5\n"
     ]
    }
   ],
   "source": [
    "number_picked = 5 #define the number \n",
    "\n",
    "print('The number I’ve picked is %d'%(number_picked)) #print the number"
   ]
  },
  {
   "cell_type": "code",
   "execution_count": null,
   "id": "b65b8562-685a-451b-beca-43b1077583a9",
   "metadata": {},
   "outputs": [
    {
     "name": "stdin",
     "output_type": "stream",
     "text": [
      "Take a guess:  5\n"
     ]
    },
    {
     "name": "stdout",
     "output_type": "stream",
     "text": [
      "Spot on!\n"
     ]
    }
   ],
   "source": [
    "guess = int(input('Take a guess: '))\n",
    "\n",
    "\n",
    "if guess < number_picked:\n",
    "    print ('Your guess is too low.')\n",
    "\n",
    "if guess > number_picked:\n",
    "    print ('Your guess is too high.')\n",
    "\n",
    "if guess == number_picked:\n",
    "        print('Spot on!')\n",
    "\n",
    "\n"
   ]
  },
  {
   "cell_type": "markdown",
   "id": "11417392-1342-4b5f-bdf3-08272177e58a",
   "metadata": {},
   "source": [
    "# code02"
   ]
  },
  {
   "cell_type": "markdown",
   "id": "7e828774-a57b-4c9e-9769-4128a20c66f3",
   "metadata": {},
   "source": [
    "lets the computer pick a number"
   ]
  },
  {
   "cell_type": "code",
   "execution_count": null,
   "id": "c68669a5-5dae-4ac1-836a-bfb0464a452e",
   "metadata": {},
   "outputs": [],
   "source": [
    "import random\n",
    "computer_pick = random.randint(1, 5) # the computer picks the number\n",
    "\n",
    "guess = int(input('Take a guess: '))\n",
    "\n",
    "\n",
    "if guess < computer_pick:\n",
    "    print ('Your guess is too low.')\n",
    "\n",
    "if guess > computer_pick:\n",
    "    print ('Your guess is too high.')\n",
    "\n",
    "if guess == computer_pick:\n",
    "        print('Spot on!')\n"
   ]
  },
  {
   "cell_type": "code",
   "execution_count": null,
   "id": "bfd1d18f-cf5b-43b1-8bf7-e6061402218b",
   "metadata": {},
   "outputs": [],
   "source": []
  },
  {
   "cell_type": "markdown",
   "id": "fb1b2078-d82e-4685-8932-4324c92eb4bc",
   "metadata": {},
   "source": [
    "# code03"
   ]
  },
  {
   "cell_type": "markdown",
   "id": "d8a3ea27-31f0-4250-8e7f-5a1688dd8308",
   "metadata": {},
   "source": [
    "lets play a round One-armed bandit"
   ]
  },
  {
   "cell_type": "code",
   "execution_count": 12,
   "id": "6a404278-b3a6-4be1-a1ec-01c72c315dd4",
   "metadata": {},
   "outputs": [
    {
     "name": "stdout",
     "output_type": "stream",
     "text": [
      "Pair! 3 1 3\n"
     ]
    }
   ],
   "source": [
    "import random\n",
    "\n",
    "slot1 = random.randint(1,5)\n",
    "slot2 = random.randint(1,5)\n",
    "slot3 = random.randint(1,5)\n",
    "\n",
    "if slot1 == slot2 == slot3:\n",
    "    print('Three of a kind! %d %d %d'%(slot1, slot2, slot3))\n",
    "elif slot1 == slot2 or slot1 == slot3 or slot2 == slot3:\n",
    "    print('Pair! %d %d %d'%(slot1, slot2, slot3))\n",
    "else:\n",
    "    print('Bad Luck!')"
   ]
  }
 ],
 "metadata": {
  "kernelspec": {
   "display_name": "Python 3 (ipykernel)",
   "language": "python",
   "name": "python3"
  },
  "language_info": {
   "codemirror_mode": {
    "name": "ipython",
    "version": 3
   },
   "file_extension": ".py",
   "mimetype": "text/x-python",
   "name": "python",
   "nbconvert_exporter": "python",
   "pygments_lexer": "ipython3",
   "version": "3.10.4"
  }
 },
 "nbformat": 4,
 "nbformat_minor": 5
}
